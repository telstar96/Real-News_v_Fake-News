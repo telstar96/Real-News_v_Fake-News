{
 "cells": [
  {
   "cell_type": "code",
   "execution_count": 21,
   "metadata": {},
   "outputs": [
    {
     "name": "stdout",
     "output_type": "stream",
     "text": [
      "Defaulting to user installation because normal site-packages is not writeable\n",
      "Requirement already satisfied: nltk in /Users/samson/Library/Python/3.9/lib/python/site-packages (3.8.1)\n",
      "Requirement already satisfied: click in /Users/samson/Library/Python/3.9/lib/python/site-packages (from nltk) (8.1.6)\n",
      "Requirement already satisfied: joblib in /Users/samson/Library/Python/3.9/lib/python/site-packages (from nltk) (1.3.1)\n",
      "Requirement already satisfied: regex>=2021.8.3 in /Users/samson/Library/Python/3.9/lib/python/site-packages (from nltk) (2023.10.3)\n",
      "Requirement already satisfied: tqdm in /Users/samson/Library/Python/3.9/lib/python/site-packages (from nltk) (4.65.0)\n"
     ]
    }
   ],
   "source": [
    "!pip install nltk"
   ]
  },
  {
   "cell_type": "code",
   "execution_count": 22,
   "metadata": {},
   "outputs": [],
   "source": [
    "import csv                               # csv reader\n",
    "from sklearn.svm import LinearSVC\n",
    "from nltk.classify import SklearnClassifier\n",
    "from sklearn.pipeline import Pipeline\n",
    "from sklearn.metrics import precision_recall_fscore_support # to report on precision and recall\n",
    "import numpy as np\n",
    "import re"
   ]
  },
  {
   "cell_type": "code",
   "execution_count": 23,
   "metadata": {},
   "outputs": [],
   "source": [
    "def load_data(path):\n",
    "    \"\"\"Load data from a tab-separated file and append it to raw_data.\"\"\"\n",
    "    with open(path) as f:\n",
    "        reader = csv.reader(f, delimiter='\\t')\n",
    "        for line in reader:\n",
    "            if line[0] == \"Id\":  # skip header\n",
    "                continue\n",
    "            (label, text) = parse_data_line(line)\n",
    "            raw_data.append((text, label))\n",
    "\n",
    "def split_and_preprocess_data(percentage):\n",
    "    \"\"\"Split the data between train_data and test_data according to the percentage\n",
    "    and performs the preprocessing.\"\"\"\n",
    "    num_samples = len(raw_data)\n",
    "    num_training_samples = int((percentage * num_samples))\n",
    "    for (text, label) in raw_data[:num_training_samples]:\n",
    "        train_data.append((to_feature_vector(pre_process(text)),label))\n",
    "    for (text, label) in raw_data[num_training_samples:]:\n",
    "        test_data.append((to_feature_vector(pre_process(text)),label))"
   ]
  },
  {
   "cell_type": "markdown",
   "metadata": {},
   "source": [
    "# Question 1: Input and Basic preprocessing (10 marks)"
   ]
  },
  {
   "cell_type": "code",
   "execution_count": 24,
   "metadata": {},
   "outputs": [],
   "source": [
    "def convert_label(label):\n",
    "    \"\"\"Converts the multiple classes into two,\n",
    "    making it a binary distinction between fake news and real.\"\"\"\n",
    "    #return label\n",
    "    # Converting the multiclass labels to binary label\n",
    "    labels_map = {\n",
    "        'true': 'REAL',\n",
    "        'mostly-true': 'REAL',\n",
    "        'half-true': 'REAL',\n",
    "        'false': 'FAKE',\n",
    "        'barely-true': 'FAKE',\n",
    "        'pants-fire': 'FAKE'\n",
    "    }\n",
    "    return labels_map[label]\n",
    "\n",
    "\n",
    "def parse_data_line(data_line):\n",
    "    # Creating a new variable data_line_vals equal to the data_line\n",
    "    data_line_vals = data_line\n",
    "    # Label takes the 2nd column of data_line_vals which is being passed throught the convert_label function\n",
    "    label = convert_label(data_line_vals[1])\n",
    "    # Statement takes the 3rd column of the data_line_vals\n",
    "    statement = data_line_vals[2]\n",
    "    # Returns a tuple of the label as just FAKE or REAL with the statement\n",
    "    return (label, statement)"
   ]
  },
  {
   "cell_type": "code",
   "execution_count": 25,
   "metadata": {},
   "outputs": [],
   "source": [
    "def pre_process(text):\n",
    "    # This removes non-alphanumeric characters from the text e.g. all punctuation and special characters.\n",
    "    text = re.sub(r'[^a-zA-Z0-9\\s]', ' ', text)\n",
    "    # Now we can split the text on the white-space\n",
    "    tokens = re.split(r\"\\s+\",text)\n",
    "    # normalisation all the tokens to lowercase\n",
    "    tokens = [t.lower() for t in tokens]\n",
    "    return tokens"
   ]
  },
  {
   "cell_type": "markdown",
   "metadata": {},
   "source": [
    "# Question 2: Basic Feature Extraction (20 marks)"
   ]
  },
  {
   "cell_type": "code",
   "execution_count": 26,
   "metadata": {},
   "outputs": [],
   "source": [
    "global_feature_dict = {} # A global dictionary of features\n",
    "\n",
    "def to_feature_vector(tokens):\n",
    "    # Should return a dictionary containing features as keys, and weights as values\n",
    "    # Creating the local dictionary\n",
    "    feature_dict = {}\n",
    "    # Using a for loop to assign equal weights to each token\n",
    "    for token in tokens:\n",
    "        if token not in feature_dict.keys():\n",
    "            feature_dict[token] = 1\n",
    "        else:\n",
    "            feature_dict[token] = 1\n",
    "    # Creating Vocab variable to then help me update global dictionary\n",
    "    vocab = feature_dict\n",
    "    global_feature_dict.update(vocab)\n",
    "    return feature_dict"
   ]
  },
  {
   "cell_type": "code",
   "execution_count": 27,
   "metadata": {},
   "outputs": [],
   "source": [
    "# TRAINING AND VALIDATING OUR CLASSIFIER\n",
    "\n",
    "def train_classifier(data):\n",
    "    print(\"Training Classifier...\")\n",
    "    pipeline =  Pipeline([('svc', LinearSVC())])\n",
    "    return SklearnClassifier(pipeline).train(data)"
   ]
  },
  {
   "cell_type": "markdown",
   "metadata": {},
   "source": [
    "# Question 3: Cross-validation (20 marks)"
   ]
  },
  {
   "cell_type": "code",
   "execution_count": 28,
   "metadata": {},
   "outputs": [],
   "source": [
    "#solution\n",
    "from sklearn.metrics import classification_report\n",
    "\n",
    "\n",
    "def cross_validate(dataset, folds):\n",
    "    results = []\n",
    "    fold_size = int(len(dataset)/folds) + 1 #length of dataset/10 + 1 to split the data evenly. so 10 + 1. We add one to allow us to have 10 folds, as python starts at 0.\n",
    "    \n",
    "    for i in range(0,len(dataset),int(fold_size)): # range(start at 0, stop at the end of the dataset, for each fold)\n",
    "        # Trains and tests on the 10 folds of data in the dataset\n",
    "        train_sample = dataset[:i] + dataset[i+fold_size:]\n",
    "        test_sample = dataset[i:i+fold_size]\n",
    "        # Creating the variable cv for the classifier \n",
    "        cv = train_classifier(train_sample)\n",
    "        print(\"Fold start on items %d - %d\" % (i, i+fold_size))\n",
    "        # Separting the statements and labels in order to pass the statements through the predict labels function\n",
    "        test_sample_x = [i[0] for i in test_sample]\n",
    "        test_sample_y = [i[1] for i in test_sample]\n",
    "        predicted_labels = predict_labels(test_sample_x,cv)\n",
    "        # Using output_dict=True to access the scores from each fold\n",
    "        report = classification_report(test_sample_y,predicted_labels,output_dict=True)\n",
    "        print(report)\n",
    "        # Defining precision to compute average\n",
    "        precision = report['REAL']['precision']\n",
    "        precision_list = []\n",
    "        precision_list.append(precision)\n",
    "        #results.append(cv_results)\n",
    "        avg_precision = np.mean(precision_list)\n",
    "        # Defining recall to compute average\n",
    "        recall = report['REAL']['recall']\n",
    "        recall_list = []\n",
    "        recall_list.append(recall)\n",
    "        avg_recall = np.mean(recall_list)\n",
    "        # Defining f1 score to compute average\n",
    "        f1_score = report['REAL']['f1-score']\n",
    "        f1_score_list = []\n",
    "        f1_score_list.append(f1_score)\n",
    "        avg_f1_score = np.mean(f1_score_list)\n",
    "        # Defining accuracy to compute average\n",
    "        acc = report['accuracy']\n",
    "        acc_list = []\n",
    "        acc_list.append(acc)\n",
    "        avg_acc = np.mean(acc_list)\n",
    "        # cv_results will now store averages across all folds\n",
    "        cv_results = [avg_precision,avg_recall,avg_f1_score,avg_acc]\n",
    "    print(f\"The results for my classifier are:\\n{cv_results}\")\n",
    "    "
   ]
  },
  {
   "cell_type": "code",
   "execution_count": 29,
   "metadata": {},
   "outputs": [],
   "source": [
    "# PREDICTING LABELS GIVEN A CLASSIFIER\n",
    "\n",
    "def predict_labels(samples, classifier):\n",
    "    \"\"\"Assuming preprocessed samples, return their predicted labels from the classifier model.\"\"\"\n",
    "    return classifier.classify_many(samples)\n",
    "\n",
    "def predict_label_from_raw(sample, classifier):\n",
    "    \"\"\"Assuming raw text, return its predicted label from the classifier model.\"\"\"\n",
    "    return classifier.classify(to_feature_vector(preProcess(reviewSample)))"
   ]
  },
  {
   "cell_type": "code",
   "execution_count": 39,
   "metadata": {},
   "outputs": [
    {
     "name": "stdout",
     "output_type": "stream",
     "text": [
      "Now 0 rawData, 0 trainData, 0 testData\n",
      "Preparing the dataset...\n",
      "Now 10241 rawData, 0 trainData, 0 testData\n",
      "Preparing training and test data...\n",
      "After split, 10241 rawData, 8192 trainData, 2049 testData\n",
      "Training Samples: \n",
      "8192\n",
      "Features: \n",
      "12229\n"
     ]
    }
   ],
   "source": [
    "# MAIN\n",
    "\n",
    "# loading reviews\n",
    "# initialize global lists that will be appended to by the methods below\n",
    "raw_data = []          # the filtered data from the dataset file\n",
    "train_data = []        # the pre-processed training data as a percentage of the total dataset\n",
    "test_data = []         # the pre-processed test data as a percentage of the total dataset\n",
    "\n",
    "\n",
    "# references to the data files\n",
    "data_file_path = 'data/fake_news.tsv'\n",
    "\n",
    "# Do the actual stuff (i.e. call the functions we've made)\n",
    "# We parse the dataset and put it in a raw data list\n",
    "print(\"Now %d rawData, %d trainData, %d testData\" % (len(raw_data), len(train_data), len(test_data)),\n",
    "      \"Preparing the dataset...\",sep='\\n')\n",
    "\n",
    "load_data(data_file_path) \n",
    "\n",
    "# We split the raw dataset into a set of training data and a set of test data (80/20)\n",
    "# You do the cross validation on the 80% (training data)\n",
    "# We print the number of training samples and the number of features before the split\n",
    "print(\"Now %d rawData, %d trainData, %d testData\" % (len(raw_data), len(train_data), len(test_data)),\n",
    "      \"Preparing training and test data...\",sep='\\n')\n",
    "\n",
    "split_and_preprocess_data(0.8)\n",
    "\n",
    "# We print the number of training samples and the number of features after the split\n",
    "print(\"After split, %d rawData, %d trainData, %d testData\" % (len(raw_data), len(train_data), len(test_data)),\n",
    "      \"Training Samples: \", len(train_data), \"Features: \", len(global_feature_dict), sep='\\n')\n"
   ]
  },
  {
   "cell_type": "code",
   "execution_count": 31,
   "metadata": {},
   "outputs": [
    {
     "name": "stdout",
     "output_type": "stream",
     "text": [
      "Training Classifier...\n",
      "Fold start on items 0 - 820\n",
      "{'FAKE': {'precision': 0.46938775510204084, 'recall': 0.4749262536873156, 'f1-score': 0.47214076246334313, 'support': 339.0}, 'REAL': {'precision': 0.6268343815513627, 'recall': 0.6216216216216216, 'f1-score': 0.6242171189979123, 'support': 481.0}, 'accuracy': 0.5609756097560976, 'macro avg': {'precision': 0.5481110683267018, 'recall': 0.5482739376544686, 'f1-score': 0.5481789407306277, 'support': 820.0}, 'weighted avg': {'precision': 0.5617436420802405, 'recall': 0.5609756097560976, 'f1-score': 0.5613465276988648, 'support': 820.0}}\n",
      "Training Classifier...\n"
     ]
    },
    {
     "name": "stderr",
     "output_type": "stream",
     "text": [
      "/Users/samson/Library/Python/3.9/lib/python/site-packages/sklearn/svm/_classes.py:32: FutureWarning: The default value of `dual` will change from `True` to `'auto'` in 1.5. Set the value of `dual` explicitly to suppress the warning.\n",
      "  warnings.warn(\n",
      "/Users/samson/Library/Python/3.9/lib/python/site-packages/sklearn/svm/_classes.py:32: FutureWarning: The default value of `dual` will change from `True` to `'auto'` in 1.5. Set the value of `dual` explicitly to suppress the warning.\n",
      "  warnings.warn(\n"
     ]
    },
    {
     "name": "stdout",
     "output_type": "stream",
     "text": [
      "Fold start on items 820 - 1640\n",
      "{'FAKE': {'precision': 0.49731182795698925, 'recall': 0.49333333333333335, 'f1-score': 0.4953145917001338, 'support': 375.0}, 'REAL': {'precision': 0.5758928571428571, 'recall': 0.5797752808988764, 'f1-score': 0.5778275475923852, 'support': 445.0}, 'accuracy': 0.5402439024390244, 'macro avg': {'precision': 0.5366023425499231, 'recall': 0.5365543071161049, 'f1-score': 0.5365710696462596, 'support': 820.0}, 'weighted avg': {'precision': 0.5399564108688322, 'recall': 0.5402439024390244, 'f1-score': 0.540092964105075, 'support': 820.0}}\n",
      "Training Classifier...\n",
      "Fold start on items 1640 - 2460\n"
     ]
    },
    {
     "name": "stderr",
     "output_type": "stream",
     "text": [
      "/Users/samson/Library/Python/3.9/lib/python/site-packages/sklearn/svm/_classes.py:32: FutureWarning: The default value of `dual` will change from `True` to `'auto'` in 1.5. Set the value of `dual` explicitly to suppress the warning.\n",
      "  warnings.warn(\n",
      "/Users/samson/Library/Python/3.9/lib/python/site-packages/sklearn/svm/_classes.py:32: FutureWarning: The default value of `dual` will change from `True` to `'auto'` in 1.5. Set the value of `dual` explicitly to suppress the warning.\n",
      "  warnings.warn(\n"
     ]
    },
    {
     "name": "stdout",
     "output_type": "stream",
     "text": [
      "{'FAKE': {'precision': 0.527536231884058, 'recall': 0.4642857142857143, 'f1-score': 0.4938941655359566, 'support': 392.0}, 'REAL': {'precision': 0.5578947368421052, 'recall': 0.6191588785046729, 'f1-score': 0.5869324473975637, 'support': 428.0}, 'accuracy': 0.5451219512195122, 'macro avg': {'precision': 0.5427154843630816, 'recall': 0.5417222963951935, 'f1-score': 0.5404133064667601, 'support': 820.0}, 'weighted avg': {'precision': 0.5433818905694777, 'recall': 0.5451219512195122, 'f1-score': 0.5424556102149417, 'support': 820.0}}\n",
      "Training Classifier...\n",
      "Fold start on items 2460 - 3280\n",
      "{'FAKE': {'precision': 0.5165745856353591, 'recall': 0.5238095238095238, 'f1-score': 0.5201668984700973, 'support': 357.0}, 'REAL': {'precision': 0.62882096069869, 'recall': 0.6220302375809935, 'f1-score': 0.6254071661237784, 'support': 463.0}, 'accuracy': 0.5792682926829268, 'macro avg': {'precision': 0.5726977731670245, 'recall': 0.5729198806952587, 'f1-score': 0.572787032296938, 'support': 820.0}, 'weighted avg': {'precision': 0.5799527217991667, 'recall': 0.5792682926829268, 'f1-score': 0.5795891471574807, 'support': 820.0}}\n",
      "Training Classifier...\n"
     ]
    },
    {
     "name": "stderr",
     "output_type": "stream",
     "text": [
      "/Users/samson/Library/Python/3.9/lib/python/site-packages/sklearn/svm/_classes.py:32: FutureWarning: The default value of `dual` will change from `True` to `'auto'` in 1.5. Set the value of `dual` explicitly to suppress the warning.\n",
      "  warnings.warn(\n",
      "/Users/samson/Library/Python/3.9/lib/python/site-packages/sklearn/svm/_classes.py:32: FutureWarning: The default value of `dual` will change from `True` to `'auto'` in 1.5. Set the value of `dual` explicitly to suppress the warning.\n",
      "  warnings.warn(\n"
     ]
    },
    {
     "name": "stdout",
     "output_type": "stream",
     "text": [
      "Fold start on items 3280 - 4100\n",
      "{'FAKE': {'precision': 0.49271137026239065, 'recall': 0.48563218390804597, 'f1-score': 0.4891461649782923, 'support': 348.0}, 'REAL': {'precision': 0.6247379454926625, 'recall': 0.6313559322033898, 'f1-score': 0.6280295047418336, 'support': 472.0}, 'accuracy': 0.5695121951219512, 'macro avg': {'precision': 0.5587246578775266, 'recall': 0.5584940580557178, 'f1-score': 0.5585878348600629, 'support': 820.0}, 'weighted avg': {'precision': 0.5687071550290838, 'recall': 0.5695121951219512, 'f1-score': 0.569088770305599, 'support': 820.0}}\n",
      "Training Classifier...\n",
      "Fold start on items 4100 - 4920\n",
      "{'FAKE': {'precision': 0.4730878186968839, 'recall': 0.4785100286532951, 'f1-score': 0.47578347578347585, 'support': 349.0}, 'REAL': {'precision': 0.6102783725910065, 'recall': 0.6050955414012739, 'f1-score': 0.6076759061833689, 'support': 471.0}, 'accuracy': 0.551219512195122, 'macro avg': {'precision': 0.5416830956439451, 'recall': 0.5418027850272845, 'f1-score': 0.5417296909834224, 'support': 820.0}, 'weighted avg': {'precision': 0.5518887344092397, 'recall': 0.551219512195122, 'f1-score': 0.5515412010497559, 'support': 820.0}}\n",
      "Training Classifier...\n",
      "Fold start on items 4920 - 5740\n",
      "{'FAKE': {'precision': 0.49107142857142855, 'recall': 0.47277936962750716, 'f1-score': 0.48175182481751827, 'support': 349.0}, 'REAL': {'precision': 0.6198347107438017, 'recall': 0.6369426751592356, 'f1-score': 0.6282722513089005, 'support': 471.0}, 'accuracy': 0.5670731707317073, 'macro avg': {'precision': 0.5554530696576151, 'recall': 0.5548610223933714, 'f1-score': 0.5550120380632094, 'support': 820.0}, 'weighted avg': {'precision': 0.5650318016240965, 'recall': 0.5670731707317073, 'f1-score': 0.5659117283265926, 'support': 820.0}}\n",
      "Training Classifier...\n"
     ]
    },
    {
     "name": "stderr",
     "output_type": "stream",
     "text": [
      "/Users/samson/Library/Python/3.9/lib/python/site-packages/sklearn/svm/_classes.py:32: FutureWarning: The default value of `dual` will change from `True` to `'auto'` in 1.5. Set the value of `dual` explicitly to suppress the warning.\n",
      "  warnings.warn(\n",
      "/Users/samson/Library/Python/3.9/lib/python/site-packages/sklearn/svm/_classes.py:32: FutureWarning: The default value of `dual` will change from `True` to `'auto'` in 1.5. Set the value of `dual` explicitly to suppress the warning.\n",
      "  warnings.warn(\n"
     ]
    },
    {
     "name": "stdout",
     "output_type": "stream",
     "text": [
      "Fold start on items 5740 - 6560\n",
      "{'FAKE': {'precision': 0.49157303370786515, 'recall': 0.49019607843137253, 'f1-score': 0.4908835904628331, 'support': 357.0}, 'REAL': {'precision': 0.6077586206896551, 'recall': 0.6090712742980562, 'f1-score': 0.6084142394822007, 'support': 463.0}, 'accuracy': 0.5573170731707318, 'macro avg': {'precision': 0.5496658271987601, 'recall': 0.5496336763647144, 'f1-score': 0.5496489149725169, 'support': 820.0}, 'weighted avg': {'precision': 0.55717538343051, 'recall': 0.5573170731707318, 'f1-score': 0.5572454081408419, 'support': 820.0}}\n",
      "Training Classifier...\n",
      "Fold start on items 6560 - 7380\n",
      "{'FAKE': {'precision': 0.48578811369509045, 'recall': 0.5179063360881543, 'f1-score': 0.5013333333333333, 'support': 363.0}, 'REAL': {'precision': 0.5958429561200924, 'recall': 0.5645514223194749, 'f1-score': 0.5797752808988764, 'support': 457.0}, 'accuracy': 0.5439024390243903, 'macro avg': {'precision': 0.5408155349075914, 'recall': 0.5412288792038146, 'f1-score': 0.5405543071161049, 'support': 820.0}, 'weighted avg': {'precision': 0.5471235563636585, 'recall': 0.5439024390243903, 'f1-score': 0.5450503699643737, 'support': 820.0}}\n",
      "Training Classifier...\n"
     ]
    },
    {
     "name": "stderr",
     "output_type": "stream",
     "text": [
      "/Users/samson/Library/Python/3.9/lib/python/site-packages/sklearn/svm/_classes.py:32: FutureWarning: The default value of `dual` will change from `True` to `'auto'` in 1.5. Set the value of `dual` explicitly to suppress the warning.\n",
      "  warnings.warn(\n",
      "/Users/samson/Library/Python/3.9/lib/python/site-packages/sklearn/svm/_classes.py:32: FutureWarning: The default value of `dual` will change from `True` to `'auto'` in 1.5. Set the value of `dual` explicitly to suppress the warning.\n",
      "  warnings.warn(\n"
     ]
    },
    {
     "name": "stdout",
     "output_type": "stream",
     "text": [
      "Fold start on items 7380 - 8200\n",
      "{'FAKE': {'precision': 0.5111731843575419, 'recall': 0.5495495495495496, 'f1-score': 0.5296671490593343, 'support': 333.0}, 'REAL': {'precision': 0.6696035242290749, 'recall': 0.6346555323590815, 'f1-score': 0.6516613076098606, 'support': 479.0}, 'accuracy': 0.5997536945812808, 'macro avg': {'precision': 0.5903883542933084, 'recall': 0.5921025409543155, 'f1-score': 0.5906642283345975, 'support': 812.0}, 'weighted avg': {'precision': 0.6046314759812663, 'recall': 0.5997536945812808, 'f1-score': 0.6016316834752236, 'support': 812.0}}\n",
      "The results for my classifier are:\n",
      "[0.6696035242290749, 0.6346555323590815, 0.6516613076098606, 0.5997536945812808]\n"
     ]
    }
   ],
   "source": [
    "cross_validate(train_data, 10)  # will work and output overall performance of p, r, f-score when cv implemented"
   ]
  },
  {
   "cell_type": "markdown",
   "metadata": {},
   "source": [
    "# 4. Error Analysis (10 marks)"
   ]
  },
  {
   "cell_type": "code",
   "execution_count": 40,
   "metadata": {},
   "outputs": [],
   "source": [
    "from sklearn import metrics\n",
    "import matplotlib.pyplot as plt\n",
    "# a function to make the confusion matrix readable and pretty\n",
    "def confusion_matrix_heatmap(y_test, preds, labels):\n",
    "    \"\"\"Function to plot a confusion matrix\"\"\"\n",
    "    # pass labels to the confusion matrix function to ensure right order\n",
    "    cm = metrics.confusion_matrix(y_true=y_test, y_pred=preds, labels=labels)\n",
    "    fig = plt.figure(figsize=(10,10))\n",
    "    ax = fig.add_subplot(111)\n",
    "    cax = ax.matshow(cm)\n",
    "    plt.title('Confusion matrix of the classifier')\n",
    "    fig.colorbar(cax)\n",
    "    ax.set_xticks(np.arange(len(labels)))\n",
    "    ax.set_yticks(np.arange(len(labels)))\n",
    "    ax.set_xticklabels( labels, rotation=45)\n",
    "    ax.set_yticklabels( labels)\n",
    "\n",
    "    for i in range(len(cm)):\n",
    "        for j in range(len(cm)):\n",
    "            text = ax.text(j, i, cm[i, j],\n",
    "                           ha=\"center\", va=\"center\", color=\"w\")\n",
    "\n",
    "    plt.xlabel('Predicted')\n",
    "    plt.ylabel('True')\n",
    "    \n",
    "    # fix for mpl bug that cuts off top/bottom of seaborn viz:\n",
    "    b, t = plt.ylim() # discover the values for bottom and top\n",
    "    b += 0.5 # Add 0.5 to the bottom\n",
    "    t -= 0.5 # Subtract 0.5 from the top\n",
    "    plt.ylim(b, t) # update the ylim(bottom, top) values\n",
    "    plt.savefig('results/Confusion Matrix Original', dpi=300)\n",
    "    plt.show() # ta-da!\n",
    "    plt.show()"
   ]
  },
  {
   "cell_type": "code",
   "execution_count": 33,
   "metadata": {},
   "outputs": [
    {
     "name": "stdout",
     "output_type": "stream",
     "text": [
      "Training Classifier...\n",
      "              precision    recall  f1-score   support\n",
      "\n",
      "        FAKE       0.50      0.50      0.50       926\n",
      "        REAL       0.59      0.60      0.59      1123\n",
      "\n",
      "    accuracy                           0.55      2049\n",
      "   macro avg       0.55      0.55      0.55      2049\n",
      "weighted avg       0.55      0.55      0.55      2049\n",
      "\n"
     ]
    },
    {
     "name": "stderr",
     "output_type": "stream",
     "text": [
      "/Users/samson/Library/Python/3.9/lib/python/site-packages/sklearn/svm/_classes.py:32: FutureWarning: The default value of `dual` will change from `True` to `'auto'` in 1.5. Set the value of `dual` explicitly to suppress the warning.\n",
      "  warnings.warn(\n"
     ]
    }
   ],
   "source": [
    "# Our classfier\n",
    "cv = train_classifier(train_data)\n",
    "# Repeat the process in cross validate but now for the test data\n",
    "test_x = [i[0] for i in test_data]\n",
    "test_y = [i[1] for i in test_data]\n",
    "pred = predict_labels(test_x,cv)\n",
    "cv_results = classification_report(test_y,pred)\n",
    "\n",
    "print(cv_results)"
   ]
  },
  {
   "cell_type": "code",
   "execution_count": 41,
   "metadata": {},
   "outputs": [
    {
     "data": {
      "image/png": "[encoded data removed]",
      "text/plain": [
       "<Figure size 1000x1000 with 2 Axes>"
      ]
     },
     "metadata": {},
     "output_type": "display_data"
    }
   ],
   "source": [
    "confusion_matrix_heatmap(test_y, pred, labels=['REAL','FAKE'])"
   ]
  },
  {
   "cell_type": "code",
   "execution_count": 35,
   "metadata": {},
   "outputs": [],
   "source": [
    "# Looking at the 1st fold.\n",
    "fold_size = int((len(test_data)/10)+1)\n",
    "# Accessing the 1st fold\n",
    "test_sample = test_data[0:0+fold_size]\n",
    "# The statement from the test sample\n",
    "err_test_x = [i[0] for i in test_sample]\n",
    "# The label from the test sample\n",
    "err_test_y = [i[1] for i in test_sample]\n",
    "err_pred = predict_labels(err_test_x,cv)"
   ]
  },
  {
   "cell_type": "code",
   "execution_count": 42,
   "metadata": {},
   "outputs": [],
   "source": [
    "for i in range(len(err_pred)):\n",
    "    # If the predicted label is Real\n",
    "    if pred[i] == 'REAL':\n",
    "        if err_test_y[i] == 'FAKE': # and the real label is Fake\n",
    "            with open('results/FP.txt', 'a') as f:\n",
    "                print('\\nfalse positive => predicted: REAL => ground truth: FAKE\\n' ,err_test_x[i], file=f)\n",
    "    # Else meaing that the predicted label is Fake            \n",
    "    else:\n",
    "        if err_test_y[i] == 'REAL': # and the real label is Real\n",
    "            with open('results/FN.txt', 'a') as f:\n",
    "                print('\\nfalse negative => predicted: FAKE => ground truth: REAL\\n',err_test_x[i], file=f)"
   ]
  },
  {
   "cell_type": "code",
   "execution_count": 37,
   "metadata": {},
   "outputs": [
    {
     "name": "stdout",
     "output_type": "stream",
     "text": [
      "({'the': 1, 'bush': 1, 'tax': 1, 'cuts': 1, 'helped': 1, 'to': 1, 'create': 1, 'a': 1, 'substantial': 1, 'part': 1, 'of': 1, 'deficit': 1, '': 1}, 'REAL')\n",
      "Training Classifier...\n",
      "Done training!\n",
      "Precision: 0.550943\n",
      "Recall: 0.551489\n",
      "F Score:0.551194\n"
     ]
    },
    {
     "name": "stderr",
     "output_type": "stream",
     "text": [
      "/Users/samson/Library/Python/3.9/lib/python/site-packages/sklearn/svm/_classes.py:32: FutureWarning: The default value of `dual` will change from `True` to `'auto'` in 1.5. Set the value of `dual` explicitly to suppress the warning.\n",
      "  warnings.warn(\n"
     ]
    }
   ],
   "source": [
    "# Finally, check the accuracy of your classifier by training on all the traning data\n",
    "# and testing on the test set\n",
    "# Will only work once all functions are complete\n",
    "functions_complete = True  # set to True once you're happy with your methods for cross val\n",
    "if functions_complete:\n",
    "    print(test_data[0])   # have a look at the first test data instance\n",
    "    classifier = train_classifier(train_data)  # train the classifier\n",
    "    test_true = [t[1] for t in test_data]   # get the ground-truth labels from the data\n",
    "    test_pred = predict_labels([x[0] for x in test_data], classifier)  # classify the test data to get predicted labels\n",
    "    final_scores = precision_recall_fscore_support(test_true, test_pred, average='weighted') # evaluate\n",
    "    print(\"Done training!\")\n",
    "    print(\"Precision: %f\\nRecall: %f\\nF Score:%f\" % final_scores[:3])"
   ]
  }
 ],
 "metadata": {
  "kernelspec": {
   "display_name": "Python 3.9.12 ('base')",
   "language": "python",
   "name": "python3"
  },
  "language_info": {
   "codemirror_mode": {
    "name": "ipython",
    "version": 3
   },
   "file_extension": ".py",
   "mimetype": "text/x-python",
   "name": "python",
   "nbconvert_exporter": "python",
   "pygments_lexer": "ipython3",
   "version": "3.9.6"
  },
  "orig_nbformat": 4,
  "vscode": {
   "interpreter": {
    "hash": "86fb86a74c913095f2328121504a2cb38245fc0b392e5f183237bbf35130b558"
   }
  }
 },
 "nbformat": 4,
 "nbformat_minor": 2
}
