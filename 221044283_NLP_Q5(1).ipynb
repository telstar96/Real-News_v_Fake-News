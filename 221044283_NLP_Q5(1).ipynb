{
 "cells": [
  {
   "cell_type": "code",
   "execution_count": 1,
   "metadata": {},
   "outputs": [
    {
     "name": "stdout",
     "output_type": "stream",
     "text": [
      "Defaulting to user installation because normal site-packages is not writeable\n",
      "Requirement already satisfied: nltk in /Users/samson/Library/Python/3.9/lib/python/site-packages (3.8.1)\n",
      "Requirement already satisfied: click in /Users/samson/Library/Python/3.9/lib/python/site-packages (from nltk) (8.1.6)\n",
      "Requirement already satisfied: joblib in /Users/samson/Library/Python/3.9/lib/python/site-packages (from nltk) (1.3.1)\n",
      "Requirement already satisfied: regex>=2021.8.3 in /Users/samson/Library/Python/3.9/lib/python/site-packages (from nltk) (2023.10.3)\n",
      "Requirement already satisfied: tqdm in /Users/samson/Library/Python/3.9/lib/python/site-packages (from nltk) (4.65.0)\n"
     ]
    }
   ],
   "source": [
    "!pip install nltk"
   ]
  },
  {
   "cell_type": "code",
   "execution_count": 2,
   "metadata": {},
   "outputs": [],
   "source": [
    "import csv                               # csv reader\n",
    "from sklearn.svm import LinearSVC\n",
    "from nltk.classify import SklearnClassifier\n",
    "from sklearn.pipeline import Pipeline\n",
    "from sklearn.metrics import precision_recall_fscore_support # to report on precision and recall\n",
    "import numpy as np\n",
    "import re\n",
    "import nltk"
   ]
  },
  {
   "cell_type": "code",
   "execution_count": 3,
   "metadata": {},
   "outputs": [],
   "source": [
    "def load_data(path):\n",
    "    \"\"\"Load data from a tab-separated file and append it to raw_data.\"\"\"\n",
    "    with open(path) as f:\n",
    "        reader = csv.reader(f, delimiter='\\t')\n",
    "        for line in reader:\n",
    "            if line[0] == \"Id\":  # skip header\n",
    "                continue\n",
    "            (label, text) = parse_data_line(line)\n",
    "            raw_data.append((text, label))\n",
    "\n",
    "def split_and_preprocess_data(percentage):\n",
    "    \"\"\"Split the data between train_data and test_data according to the percentage\n",
    "    and performs the preprocessing.\"\"\"\n",
    "    num_samples = len(raw_data)\n",
    "    num_training_samples = int((percentage * num_samples))\n",
    "    for (text, label) in raw_data[:num_training_samples]:\n",
    "        train_data.append((to_feature_vector(pre_process(text)),label))\n",
    "    for (text, label) in raw_data[num_training_samples:]:\n",
    "        test_data.append((to_feature_vector(pre_process(text)),label))"
   ]
  },
  {
   "cell_type": "markdown",
   "metadata": {},
   "source": [
    "# Questions 5: Optimising pre-processing and feature extraction (20 marks)"
   ]
  },
  {
   "cell_type": "code",
   "execution_count": 4,
   "metadata": {},
   "outputs": [],
   "source": [
    "def convert_label(label):\n",
    "    \"\"\"Converts the multiple classes into two,\n",
    "    making it a binary distinction between fake news and real.\"\"\"\n",
    "    #return label\n",
    "    # Converting the multiclass labels to binary label\n",
    "    labels_map = {\n",
    "        'true': 'REAL',\n",
    "        'mostly-true': 'REAL',\n",
    "        'half-true': 'REAL',\n",
    "        'false': 'FAKE',\n",
    "        'barely-true': 'FAKE',\n",
    "        'pants-fire': 'FAKE'\n",
    "    }\n",
    "    return labels_map[label]\n",
    "\n",
    "\n",
    "def parse_data_line(data_line):\n",
    "    # Creating a new variable data_line_vals equal to the data_line\n",
    "    data_line_vals = data_line\n",
    "    # Label takes the 2nd column of data_line_vals which is being passed throught the convert_label function\n",
    "    label = convert_label(data_line_vals[1])\n",
    "    # Statement takes the 3rd column of the data_line_vals\n",
    "    statement = data_line_vals[2]\n",
    "    # Returns a tuple of the label as just FAKE or REAL with the statement\n",
    "    return (label, statement)"
   ]
  },
  {
   "cell_type": "code",
   "execution_count": 5,
   "metadata": {},
   "outputs": [],
   "source": [
    "def pre_process(text):\n",
    "    # This will separate punctuation at ends of strings\n",
    "    text = re.sub(r\"(\\w)([.,;:!?'\\\"”\\)])\", r\"\\1 \\2\", text)\n",
    "    # This will separates punctuation at beginning of strings\n",
    "    text = re.sub(r\"([.,;:!?'\\\"“\\(\\)])(\\w)\", r\"\\1 \\2\", text)\n",
    "    # Now we can split the text on the white-space\n",
    "    tokens = re.split(r\"\\s+\",text)\n",
    "    # normalisation all the tokens to lowercase\n",
    "    tokens = [t.lower() for t in tokens]\n",
    "    return tokens"
   ]
  },
  {
   "cell_type": "code",
   "execution_count": 6,
   "metadata": {},
   "outputs": [],
   "source": [
    "global_feature_dict = {} # A global dictionary of features\n",
    "\n",
    "def to_feature_vector(tokens):\n",
    "    # Should return a dictionary containing features as keys, and weights as values\n",
    "    # Creating the local dictionary\n",
    "    feature_dict = {}\n",
    "    # Using a for loop to assign equal weights to each token\n",
    "    for token in tokens:\n",
    "        if token not in feature_dict.keys():\n",
    "            feature_dict[token] = 1\n",
    "        else:\n",
    "            feature_dict[token] = 1\n",
    "    # Creating Vocab variable to then help me update global dictionary\n",
    "    vocab = feature_dict\n",
    "    global_feature_dict.update(vocab)\n",
    "    return feature_dict"
   ]
  },
  {
   "cell_type": "markdown",
   "metadata": {},
   "source": [
    "Below is the code for the other methods I tried"
   ]
  },
  {
   "cell_type": "code",
   "execution_count": 7,
   "metadata": {},
   "outputs": [],
   "source": [
    "# #Using Stop Words\n",
    "# from nltk.corpus import stopwords\n",
    "# nltk.download('stopwords')\n",
    "# stop_words = set(stopwords.words('english'))\n",
    "\n",
    "# # Input: a string of one statement\n",
    "# def pre_process(text):\n",
    "#     # This will separate punctuation at ends of strings\n",
    "#     text = re.sub(r\"(\\w)([.,;:!'?\\\"”\\)])\", r\"\\1 \\2\", text)\n",
    "#     # This will separates punctuation at beginning of strings\n",
    "#     text = re.sub(r\"([.,;:!'?\\\"“\\(\\)])(\\w)\", r\"\\1 \\2\", text)\n",
    "#     # Now we can split the text on the white-space\n",
    "#     tokens = re.split(r\"\\s+\",text)\n",
    "#     # normalisation all the tokens to lowercase\n",
    "#     tokens = [t.lower() for t in tokens]\n",
    "#     tokens = [t for t in tokens if not t in stop_words]\n",
    "#     return tokens"
   ]
  },
  {
   "cell_type": "code",
   "execution_count": 8,
   "metadata": {},
   "outputs": [],
   "source": [
    "# #Lemmatisation\n",
    "# from nltk.stem import WordNetLemmatizer\n",
    "# lemmatizer = WordNetLemmatizer()\n",
    "\n",
    "# def lemming(tokens):\n",
    "#     lem = [lemmatizer.lemmatize(t, pos= 'v') for t in tokens]\n",
    "#     return(lem)\n",
    "\n",
    "# def pre_process(text):\n",
    "#     # This will separate punctuation at ends of strings\n",
    "#     text = re.sub(r\"(\\w)([.,;:!?'\\\"”\\)])\", r\"\\1 \\2\", text)\n",
    "#     # This will separates punctuation at beginning of strings\n",
    "#     text = re.sub(r\"([.,;:!?'\\\"“\\(\\)])(\\w)\", r\"\\1 \\2\", text)\n",
    "#     \"studies studying cries cry\"\n",
    "#     # Now we can split the text on the white-space\n",
    "#     tokens = re.split(r\"\\s+\",text)\n",
    "#     # normalisation all the tokens to lowercase\n",
    "#     tokens = [t.lower() for t in tokens]\n",
    "#     tokens = [t for t in tokens if not t in stop_words]\n",
    "#     my_tokens = lemming(tokens)\n",
    "#     return my_tokens"
   ]
  },
  {
   "cell_type": "code",
   "execution_count": 9,
   "metadata": {},
   "outputs": [],
   "source": [
    "# # Using Bigrams\n",
    "# def pre_process(text):\n",
    "#     # This will separate punctuation at ends of strings\n",
    "#     text = re.sub(r\"(\\w)([.,;:!?'\\\"”\\)])\", r\"\\1 \\2\", text)\n",
    "#     # This will separates punctuation at beginning of strings\n",
    "#     text = re.sub(r\"([.,;:!?'\\\"“\\(\\)])(\\w)\", r\"\\1 \\2\", text)\n",
    "#     # Now we can split the text on the white-space\n",
    "#     tokens = re.split(r\"\\s+\",text)\n",
    "#     # normalisation all the tokens to lowercase\n",
    "#     tokens = [t.lower() for t in tokens]\n",
    "#     bigrams = []\n",
    "#     for i in range(len(tokens) - 1):\n",
    "#         bigrams.append((tokens[i], tokens[i+1]))\n",
    "#     return bigrams"
   ]
  },
  {
   "cell_type": "code",
   "execution_count": 10,
   "metadata": {},
   "outputs": [],
   "source": [
    "# # Using Bigrams, Stop words and Lemming\n",
    "# from nltk.corpus import stopwords\n",
    "# nltk.download('stopwords')\n",
    "# stop_words = set(stopwords.words('english'))\n",
    "# from nltk.stem import WordNetLemmatizer\n",
    "# lemmatizer = WordNetLemmatizer()\n",
    "\n",
    "# def lemming(tokens):\n",
    "#     lem = [lemmatizer.lemmatize(t, pos= 'v') for t in tokens]\n",
    "#     return(lem)\n",
    "\n",
    "# def pre_process(text):\n",
    "#     # This will separate punctuation at ends of strings\n",
    "#     text = re.sub(r\"(\\w)([.,;:!?'\\\"”\\)])\", r\"\\1 \\2\", text)\n",
    "#     # This will separates punctuation at beginning of strings\n",
    "#     text = re.sub(r\"([.,;:!?'\\\"“\\(\\)])(\\w)\", r\"\\1 \\2\", text)\n",
    "#     # Now we can split the text on the white-space\n",
    "#     tokens = re.split(r\"\\s+\",text)\n",
    "#     # normalisation all the tokens to lowercase\n",
    "#     tokens = [t.lower() for t in tokens]\n",
    "#     tokens = [t for t in tokens if not t in stop_words]\n",
    "#     my_tokens = lemming(tokens)\n",
    "#     bigrams = []\n",
    "#     for i in range(len(my_tokens) - 1):\n",
    "#         bigrams.append((my_tokens[i], my_tokens[i+1]))\n",
    "#     return bigrams"
   ]
  },
  {
   "cell_type": "code",
   "execution_count": 11,
   "metadata": {},
   "outputs": [],
   "source": [
    "# global_feature_dict = {} # A global dictionary of features\n",
    "\n",
    "# def to_feature_vector(tokens):\n",
    "#     # Should return a dictionary containing features as keys, and weights as values\n",
    "#     # DESCRIBE YOUR METHOD IN WORDS\n",
    "#     feature_dict = {}\n",
    "#     for token in tokens:\n",
    "#         if token not in feature_dict.keys():\n",
    "#             feature_dict[token] = 1\n",
    "#         else:\n",
    "#             feature_dict[token] += 1\n",
    "#     new_dict = {k: v for k, v in feature_dict.items() if v != 1}\n",
    "#     vocab = new_dict\n",
    "#     global_feature_dict.update(vocab)\n",
    "#     return new_dict"
   ]
  },
  {
   "cell_type": "code",
   "execution_count": 7,
   "metadata": {},
   "outputs": [],
   "source": [
    "# TRAINING AND VALIDATING OUR CLASSIFIER\n",
    "\n",
    "def train_classifier(data):\n",
    "    print(\"Training Classifier...\")\n",
    "    pipeline =  Pipeline([('svc', LinearSVC(C=0.1))])\n",
    "    return SklearnClassifier(pipeline).train(data)"
   ]
  },
  {
   "cell_type": "code",
   "execution_count": 8,
   "metadata": {},
   "outputs": [],
   "source": [
    "#solution\n",
    "from sklearn.metrics import classification_report\n",
    "\n",
    "\n",
    "def cross_validate(dataset, folds):\n",
    "    results = []\n",
    "    fold_size = int(len(dataset)/folds) + 1 #length of dataset/10 + 1 to split the data evenly. so 10 + 1. We add one to allow us to have 10 folds, as python starts at 0.\n",
    "    \n",
    "    for i in range(0,len(dataset),int(fold_size)): # range(start at 0, stop at the end of the dataset, for each fold)\n",
    "        # Trains and tests on the 10 folds of data in the dataset\n",
    "        train_sample = dataset[:i] + dataset[i+fold_size:]\n",
    "        test_sample = dataset[i:i+fold_size]\n",
    "        # Creating the variable cv for the classifier \n",
    "        cv = train_classifier(train_sample)\n",
    "        print(\"Fold start on items %d - %d\" % (i, i+fold_size))\n",
    "        # Separting the statements and labels in order to pass the statements through the predict labels function\n",
    "        test_sample_x = [i[0] for i in test_sample]\n",
    "        test_sample_y = [i[1] for i in test_sample]\n",
    "        predicted_labels = predict_labels(test_sample_x,cv)\n",
    "        # Using output_dict=True to access the scores from each fold\n",
    "        report = classification_report(test_sample_y,predicted_labels,output_dict=True)\n",
    "        print(report)\n",
    "        # Defining precision to compute average\n",
    "        precision = report['REAL']['precision']\n",
    "        precision_list = []\n",
    "        precision_list.append(precision)\n",
    "        #results.append(cv_results)\n",
    "        avg_precision = np.mean(precision_list)\n",
    "        # Defining recall to compute average\n",
    "        recall = report['REAL']['recall']\n",
    "        recall_list = []\n",
    "        recall_list.append(recall)\n",
    "        avg_recall = np.mean(recall_list)\n",
    "        # Defining f1 score to compute average\n",
    "        f1_score = report['REAL']['f1-score']\n",
    "        f1_score_list = []\n",
    "        f1_score_list.append(f1_score)\n",
    "        avg_f1_score = np.mean(f1_score_list)\n",
    "        # Defining accuracy to compute average\n",
    "        acc = report['accuracy']\n",
    "        acc_list = []\n",
    "        acc_list.append(acc)\n",
    "        avg_acc = np.mean(acc_list)\n",
    "        # cv_results will now store averages across all folds\n",
    "        cv_results = [avg_precision,avg_recall,avg_f1_score,avg_acc]\n",
    "    print(f\"The results for my classifier are:\\n{cv_results}\")"
   ]
  },
  {
   "cell_type": "code",
   "execution_count": 9,
   "metadata": {},
   "outputs": [],
   "source": [
    "# PREDICTING LABELS GIVEN A CLASSIFIER\n",
    "\n",
    "def predict_labels(samples, classifier):\n",
    "    \"\"\"Assuming preprocessed samples, return their predicted labels from the classifier model.\"\"\"\n",
    "    return classifier.classify_many(samples)\n",
    "\n",
    "def predict_label_from_raw(reviewSample, classifier):\n",
    "    \"\"\"Assuming raw text, return its predicted label from the classifier model.\"\"\"\n",
    "    return classifier.classify(to_feature_vector(pre_process(reviewSample)))"
   ]
  },
  {
   "cell_type": "code",
   "execution_count": 10,
   "metadata": {},
   "outputs": [
    {
     "name": "stdout",
     "output_type": "stream",
     "text": [
      "Now 0 rawData, 0 trainData, 0 testData\n",
      "Preparing the dataset...\n",
      "Now 10241 rawData, 0 trainData, 0 testData\n",
      "Preparing training and test data...\n",
      "After split, 10241 rawData, 8192 trainData, 2049 testData\n",
      "Training Samples: \n",
      "8192\n",
      "Features: \n",
      "13560\n"
     ]
    }
   ],
   "source": [
    "# MAIN\n",
    "\n",
    "# loading reviews\n",
    "# initialize global lists that will be appended to by the methods below\n",
    "raw_data = []          # the filtered data from the dataset file\n",
    "train_data = []        # the pre-processed training data as a percentage of the total dataset\n",
    "test_data = []         # the pre-processed test data as a percentage of the total dataset\n",
    "\n",
    "\n",
    "# references to the data files\n",
    "data_file_path = 'data/fake_news.tsv'\n",
    "\n",
    "# Do the actual stuff (i.e. call the functions we've made)\n",
    "# We parse the dataset and put it in a raw data list\n",
    "print(\"Now %d rawData, %d trainData, %d testData\" % (len(raw_data), len(train_data), len(test_data)),\n",
    "      \"Preparing the dataset...\",sep='\\n')\n",
    "\n",
    "load_data(data_file_path) \n",
    "\n",
    "# We split the raw dataset into a set of training data and a set of test data (80/20)\n",
    "# You do the cross validation on the 80% (training data)\n",
    "# We print the number of training samples and the number of features before the split\n",
    "print(\"Now %d rawData, %d trainData, %d testData\" % (len(raw_data), len(train_data), len(test_data)),\n",
    "      \"Preparing training and test data...\",sep='\\n')\n",
    "\n",
    "split_and_preprocess_data(0.8)\n",
    "\n",
    "# We print the number of training samples and the number of features after the split\n",
    "print(\"After split, %d rawData, %d trainData, %d testData\" % (len(raw_data), len(train_data), len(test_data)),\n",
    "      \"Training Samples: \", len(train_data), \"Features: \", len(global_feature_dict), sep='\\n')"
   ]
  },
  {
   "cell_type": "code",
   "execution_count": 11,
   "metadata": {},
   "outputs": [
    {
     "name": "stdout",
     "output_type": "stream",
     "text": [
      "Training Classifier...\n",
      "Fold start on items 0 - 820\n",
      "{'FAKE': {'precision': 0.48773006134969327, 'recall': 0.4690265486725664, 'f1-score': 0.47819548872180456, 'support': 339.0}, 'REAL': {'precision': 0.6356275303643725, 'recall': 0.6528066528066528, 'f1-score': 0.6441025641025642, 'support': 481.0}, 'accuracy': 0.5768292682926829, 'macro avg': {'precision': 0.5616787958570328, 'recall': 0.5609166007396096, 'f1-score': 0.5611490264121843, 'support': 820.0}, 'weighted avg': {'precision': 0.574484552320499, 'recall': 0.5768292682926829, 'f1-score': 0.575514151231738, 'support': 820.0}}\n",
      "Training Classifier...\n"
     ]
    },
    {
     "name": "stderr",
     "output_type": "stream",
     "text": [
      "/Users/samson/Library/Python/3.9/lib/python/site-packages/sklearn/svm/_classes.py:32: FutureWarning: The default value of `dual` will change from `True` to `'auto'` in 1.5. Set the value of `dual` explicitly to suppress the warning.\n",
      "  warnings.warn(\n",
      "/Users/samson/Library/Python/3.9/lib/python/site-packages/sklearn/svm/_classes.py:32: FutureWarning: The default value of `dual` will change from `True` to `'auto'` in 1.5. Set the value of `dual` explicitly to suppress the warning.\n",
      "  warnings.warn(\n"
     ]
    },
    {
     "name": "stdout",
     "output_type": "stream",
     "text": [
      "Fold start on items 820 - 1640\n",
      "{'FAKE': {'precision': 0.5364431486880467, 'recall': 0.49066666666666664, 'f1-score': 0.5125348189415041, 'support': 375.0}, 'REAL': {'precision': 0.59958071278826, 'recall': 0.6426966292134831, 'f1-score': 0.6203904555314533, 'support': 445.0}, 'accuracy': 0.573170731707317, 'macro avg': {'precision': 0.5680119307381533, 'recall': 0.5666816479400749, 'f1-score': 0.5664626372364787, 'support': 820.0}, 'weighted avg': {'precision': 0.5707068267668209, 'recall': 0.573170731707317, 'f1-score': 0.5710662314811716, 'support': 820.0}}\n",
      "Training Classifier...\n",
      "Fold start on items 1640 - 2460\n",
      "{'FAKE': {'precision': 0.5740740740740741, 'recall': 0.4744897959183674, 'f1-score': 0.5195530726256984, 'support': 392.0}, 'REAL': {'precision': 0.5846774193548387, 'recall': 0.677570093457944, 'f1-score': 0.6277056277056277, 'support': 428.0}, 'accuracy': 0.5804878048780487, 'macro avg': {'precision': 0.5793757467144565, 'recall': 0.5760299446881556, 'f1-score': 0.5736293501656631, 'support': 820.0}, 'weighted avg': {'precision': 0.5796085030742781, 'recall': 0.5804878048780487, 'f1-score': 0.5760034306430273, 'support': 820.0}}\n",
      "Training Classifier...\n"
     ]
    },
    {
     "name": "stderr",
     "output_type": "stream",
     "text": [
      "/Users/samson/Library/Python/3.9/lib/python/site-packages/sklearn/svm/_classes.py:32: FutureWarning: The default value of `dual` will change from `True` to `'auto'` in 1.5. Set the value of `dual` explicitly to suppress the warning.\n",
      "  warnings.warn(\n",
      "/Users/samson/Library/Python/3.9/lib/python/site-packages/sklearn/svm/_classes.py:32: FutureWarning: The default value of `dual` will change from `True` to `'auto'` in 1.5. Set the value of `dual` explicitly to suppress the warning.\n",
      "  warnings.warn(\n"
     ]
    },
    {
     "name": "stdout",
     "output_type": "stream",
     "text": [
      "Fold start on items 2460 - 3280\n",
      "{'FAKE': {'precision': 0.5539772727272727, 'recall': 0.5462184873949579, 'f1-score': 0.5500705218617771, 'support': 357.0}, 'REAL': {'precision': 0.6538461538461539, 'recall': 0.6609071274298056, 'f1-score': 0.6573576799140709, 'support': 463.0}, 'accuracy': 0.6109756097560975, 'macro avg': {'precision': 0.6039117132867133, 'recall': 0.6035628074123818, 'f1-score': 0.603714100887924, 'support': 820.0}, 'weighted avg': {'precision': 0.6103666531639091, 'recall': 0.6109756097560975, 'f1-score': 0.6106485147620356, 'support': 820.0}}\n",
      "Training Classifier...\n",
      "Fold start on items 3280 - 4100\n",
      "{'FAKE': {'precision': 0.5375, 'recall': 0.4942528735632184, 'f1-score': 0.5149700598802395, 'support': 348.0}, 'REAL': {'precision': 0.648, 'recall': 0.6864406779661016, 'f1-score': 0.6666666666666666, 'support': 472.0}, 'accuracy': 0.6048780487804878, 'macro avg': {'precision': 0.59275, 'recall': 0.59034677576466, 'f1-score': 0.590818363273453, 'support': 820.0}, 'weighted avg': {'precision': 0.6011048780487804, 'recall': 0.6048780487804878, 'f1-score': 0.6022881067134024, 'support': 820.0}}\n",
      "Training Classifier...\n"
     ]
    },
    {
     "name": "stderr",
     "output_type": "stream",
     "text": [
      "/Users/samson/Library/Python/3.9/lib/python/site-packages/sklearn/svm/_classes.py:32: FutureWarning: The default value of `dual` will change from `True` to `'auto'` in 1.5. Set the value of `dual` explicitly to suppress the warning.\n",
      "  warnings.warn(\n",
      "/Users/samson/Library/Python/3.9/lib/python/site-packages/sklearn/svm/_classes.py:32: FutureWarning: The default value of `dual` will change from `True` to `'auto'` in 1.5. Set the value of `dual` explicitly to suppress the warning.\n",
      "  warnings.warn(\n"
     ]
    },
    {
     "name": "stdout",
     "output_type": "stream",
     "text": [
      "Fold start on items 4100 - 4920\n",
      "{'FAKE': {'precision': 0.5063291139240507, 'recall': 0.4584527220630373, 'f1-score': 0.4812030075187971, 'support': 349.0}, 'REAL': {'precision': 0.625, 'recall': 0.6687898089171974, 'f1-score': 0.6461538461538461, 'support': 471.0}, 'accuracy': 0.5792682926829268, 'macro avg': {'precision': 0.5656645569620253, 'recall': 0.5636212654901174, 'f1-score': 0.5636784268363215, 'support': 820.0}, 'weighted avg': {'precision': 0.5744925131213338, 'recall': 0.5792682926829268, 'f1-score': 0.5759491599542947, 'support': 820.0}}\n",
      "Training Classifier...\n",
      "Fold start on items 4920 - 5740\n",
      "{'FAKE': {'precision': 0.5245398773006135, 'recall': 0.4899713467048711, 'f1-score': 0.5066666666666666, 'support': 349.0}, 'REAL': {'precision': 0.6396761133603239, 'recall': 0.6709129511677282, 'f1-score': 0.6549222797927462, 'support': 471.0}, 'accuracy': 0.5939024390243902, 'macro avg': {'precision': 0.5821079953304686, 'recall': 0.5804421489362996, 'f1-score': 0.5807944732297063, 'support': 820.0}, 'weighted avg': {'precision': 0.5906730080129593, 'recall': 0.5939024390243902, 'f1-score': 0.5918232444500612, 'support': 820.0}}\n",
      "Training Classifier...\n"
     ]
    },
    {
     "name": "stderr",
     "output_type": "stream",
     "text": [
      "/Users/samson/Library/Python/3.9/lib/python/site-packages/sklearn/svm/_classes.py:32: FutureWarning: The default value of `dual` will change from `True` to `'auto'` in 1.5. Set the value of `dual` explicitly to suppress the warning.\n",
      "  warnings.warn(\n",
      "/Users/samson/Library/Python/3.9/lib/python/site-packages/sklearn/svm/_classes.py:32: FutureWarning: The default value of `dual` will change from `True` to `'auto'` in 1.5. Set the value of `dual` explicitly to suppress the warning.\n",
      "  warnings.warn(\n"
     ]
    },
    {
     "name": "stdout",
     "output_type": "stream",
     "text": [
      "Fold start on items 5740 - 6560\n",
      "{'FAKE': {'precision': 0.5195195195195195, 'recall': 0.484593837535014, 'f1-score': 0.5014492753623188, 'support': 357.0}, 'REAL': {'precision': 0.62217659137577, 'recall': 0.6544276457883369, 'f1-score': 0.6378947368421052, 'support': 463.0}, 'accuracy': 0.5804878048780487, 'macro avg': {'precision': 0.5708480554476447, 'recall': 0.5695107416616755, 'f1-score': 0.569672006102212, 'support': 820.0}, 'weighted avg': {'precision': 0.5774832076529878, 'recall': 0.5804878048780487, 'f1-score': 0.578491042027125, 'support': 820.0}}\n",
      "Training Classifier...\n",
      "Fold start on items 6560 - 7380\n",
      "{'FAKE': {'precision': 0.5100286532951289, 'recall': 0.4903581267217631, 'f1-score': 0.5, 'support': 363.0}, 'REAL': {'precision': 0.6072186836518046, 'recall': 0.6258205689277899, 'f1-score': 0.6163793103448276, 'support': 457.0}, 'accuracy': 0.5658536585365853, 'macro avg': {'precision': 0.5586236684734668, 'recall': 0.5580893478247765, 'f1-score': 0.5581896551724138, 'support': 820.0}, 'weighted avg': {'precision': 0.564194316554886, 'recall': 0.5658536585365853, 'f1-score': 0.5648601766190076, 'support': 820.0}}\n",
      "Training Classifier...\n",
      "Fold start on items 7380 - 8200\n",
      "{'FAKE': {'precision': 0.5493827160493827, 'recall': 0.5345345345345346, 'f1-score': 0.5418569254185693, 'support': 333.0}, 'REAL': {'precision': 0.6823770491803278, 'recall': 0.6951983298538622, 'f1-score': 0.688728024819028, 'support': 479.0}, 'accuracy': 0.6293103448275862, 'macro avg': {'precision': 0.6158798826148553, 'recall': 0.6148664321941983, 'f1-score': 0.6152924751187987, 'support': 812.0}, 'weighted avg': {'precision': 0.6278362697066767, 'recall': 0.6293103448275862, 'f1-score': 0.6284964040057855, 'support': 812.0}}\n",
      "The results for my classifier are:\n",
      "[0.6823770491803278, 0.6951983298538622, 0.688728024819028, 0.6293103448275862]\n"
     ]
    },
    {
     "name": "stderr",
     "output_type": "stream",
     "text": [
      "/Users/samson/Library/Python/3.9/lib/python/site-packages/sklearn/svm/_classes.py:32: FutureWarning: The default value of `dual` will change from `True` to `'auto'` in 1.5. Set the value of `dual` explicitly to suppress the warning.\n",
      "  warnings.warn(\n",
      "/Users/samson/Library/Python/3.9/lib/python/site-packages/sklearn/svm/_classes.py:32: FutureWarning: The default value of `dual` will change from `True` to `'auto'` in 1.5. Set the value of `dual` explicitly to suppress the warning.\n",
      "  warnings.warn(\n"
     ]
    }
   ],
   "source": [
    "cross_validate(train_data, 10)  # will work and output overall performance of p, r, f-score when cv implemented"
   ]
  },
  {
   "cell_type": "code",
   "execution_count": 18,
   "metadata": {},
   "outputs": [],
   "source": [
    "from sklearn import metrics\n",
    "import matplotlib.pyplot as plt\n",
    "# a function to make the confusion matrix readable and pretty\n",
    "def confusion_matrix_heatmap(y_test, preds, labels):\n",
    "    \"\"\"Function to plot a confusion matrix\"\"\"\n",
    "    # pass labels to the confusion matrix function to ensure right order\n",
    "    cm = metrics.confusion_matrix(y_true=y_test, y_pred=preds, labels=labels)\n",
    "    fig = plt.figure(figsize=(10,10))\n",
    "    ax = fig.add_subplot(111)\n",
    "    cax = ax.matshow(cm)\n",
    "    plt.title('Confusion matrix of the classifier')\n",
    "    fig.colorbar(cax)\n",
    "    ax.set_xticks(np.arange(len(labels)))\n",
    "    ax.set_yticks(np.arange(len(labels)))\n",
    "    ax.set_xticklabels( labels, rotation=45)\n",
    "    ax.set_yticklabels( labels)\n",
    "\n",
    "    for i in range(len(cm)):\n",
    "        for j in range(len(cm)):\n",
    "            text = ax.text(j, i, cm[i, j],\n",
    "                           ha=\"center\", va=\"center\", color=\"w\")\n",
    "\n",
    "    plt.xlabel('Predicted')\n",
    "    plt.ylabel('True')\n",
    "    \n",
    "    # fix for mpl bug that cuts off top/bottom of seaborn viz:\n",
    "    b, t = plt.ylim() # discover the values for bottom and top\n",
    "    b += 0.5 # Add 0.5 to the bottom\n",
    "    t -= 0.5 # Subtract 0.5 from the top\n",
    "    plt.ylim(b, t) # update the ylim(bottom, top) values\n",
    "    plt.savefig('results/Confusion Matrix Optimised', dpi=300)\n",
    "    plt.show() # ta-da!\n",
    "    plt.show()"
   ]
  },
  {
   "cell_type": "code",
   "execution_count": 13,
   "metadata": {},
   "outputs": [
    {
     "name": "stdout",
     "output_type": "stream",
     "text": [
      "Training Classifier...\n",
      "              precision    recall  f1-score   support\n",
      "\n",
      "        FAKE       0.55      0.49      0.52       926\n",
      "        REAL       0.61      0.66      0.64      1123\n",
      "\n",
      "    accuracy                           0.59      2049\n",
      "   macro avg       0.58      0.58      0.58      2049\n",
      "weighted avg       0.58      0.59      0.58      2049\n",
      "\n"
     ]
    },
    {
     "name": "stderr",
     "output_type": "stream",
     "text": [
      "/Users/samson/Library/Python/3.9/lib/python/site-packages/sklearn/svm/_classes.py:32: FutureWarning: The default value of `dual` will change from `True` to `'auto'` in 1.5. Set the value of `dual` explicitly to suppress the warning.\n",
      "  warnings.warn(\n"
     ]
    }
   ],
   "source": [
    "# Our classfier\n",
    "cv = train_classifier(train_data)\n",
    "# Repeat the process in cross validate but now for the test data\n",
    "test_x = [i[0] for i in test_data]\n",
    "test_y = [i[1] for i in test_data]\n",
    "pred = predict_labels(test_x,cv)\n",
    "cv_results = classification_report(test_y,pred)\n",
    "\n",
    "print(cv_results)"
   ]
  },
  {
   "cell_type": "code",
   "execution_count": 19,
   "metadata": {},
   "outputs": [
    {
     "data": {
      "image/png": "[encoded data removed]",
      "text/plain": [
       "<Figure size 1000x1000 with 2 Axes>"
      ]
     },
     "metadata": {},
     "output_type": "display_data"
    }
   ],
   "source": [
    "confusion_matrix_heatmap(test_y, pred, labels=['REAL','FAKE'])"
   ]
  },
  {
   "cell_type": "code",
   "execution_count": 15,
   "metadata": {},
   "outputs": [],
   "source": [
    "# Looking at the 1st fold.\n",
    "fold_size = int((len(test_data)/10)+1)\n",
    "# Accessing the 1st fold\n",
    "test_sample = test_data[0:0+fold_size]\n",
    "# The statement from the test sample\n",
    "err_test_x = [i[0] for i in test_sample]\n",
    "# The label from the test sample\n",
    "err_test_y = [i[1] for i in test_sample]\n",
    "err_pred = predict_labels(err_test_x,cv)"
   ]
  },
  {
   "cell_type": "code",
   "execution_count": 20,
   "metadata": {},
   "outputs": [],
   "source": [
    "for i in range(len(err_pred)):\n",
    "    # If the predicted label is Real\n",
    "    if pred[i] == 'REAL':\n",
    "        if err_test_y[i] == 'FAKE': # and the real label is Fake\n",
    "            with open('results/FP_1.txt', 'a') as f:\n",
    "                print('\\nfalse positive => predicted: REAL => ground truth: FAKE\\n' ,err_test_x[i], file=f)\n",
    "    # Else meaing that the predicted label is Fake            \n",
    "    else:\n",
    "        if err_test_y[i] == 'REAL': # and the real label is Real\n",
    "            with open('results/FN_1.txt', 'a') as f:\n",
    "                print('\\nfalse negative => predicted: FAKE => ground truth: REAL\\n',err_test_x[i], file=f)"
   ]
  },
  {
   "cell_type": "code",
   "execution_count": 17,
   "metadata": {},
   "outputs": [
    {
     "name": "stdout",
     "output_type": "stream",
     "text": [
      "({'the': 1, 'bush': 1, 'tax': 1, 'cuts': 1, 'helped': 1, 'to': 1, 'create': 1, 'a': 1, 'substantial': 1, 'part': 1, 'of': 1, 'deficit': 1, '.': 1}, 'REAL')\n",
      "Training Classifier...\n",
      "Done training!\n",
      "Precision: 0.582323\n",
      "Recall: 0.585163\n",
      "F Score:0.582712\n"
     ]
    },
    {
     "name": "stderr",
     "output_type": "stream",
     "text": [
      "/Users/samson/Library/Python/3.9/lib/python/site-packages/sklearn/svm/_classes.py:32: FutureWarning: The default value of `dual` will change from `True` to `'auto'` in 1.5. Set the value of `dual` explicitly to suppress the warning.\n",
      "  warnings.warn(\n"
     ]
    }
   ],
   "source": [
    "# Finally, check the accuracy of your classifier by training on all the traning data\n",
    "# and testing on the test set\n",
    "# Will only work once all functions are complete\n",
    "functions_complete = True  # set to True once you're happy with your methods for cross val\n",
    "if functions_complete:\n",
    "    print(test_data[0])   # have a look at the first test data instance\n",
    "    classifier = train_classifier(train_data)  # train the classifier\n",
    "    test_true = [t[1] for t in test_data]   # get the ground-truth labels from the data\n",
    "    test_pred = predict_labels([x[0] for x in test_data], classifier)  # classify the test data to get predicted labels\n",
    "    final_scores = precision_recall_fscore_support(test_true, test_pred, average='weighted') # evaluate\n",
    "    print(\"Done training!\")\n",
    "    print(\"Precision: %f\\nRecall: %f\\nF Score:%f\" % final_scores[:3])"
   ]
  }
 ],
 "metadata": {
  "kernelspec": {
   "display_name": "Python 3.9.12 ('base')",
   "language": "python",
   "name": "python3"
  },
  "language_info": {
   "codemirror_mode": {
    "name": "ipython",
    "version": 3
   },
   "file_extension": ".py",
   "mimetype": "text/x-python",
   "name": "python",
   "nbconvert_exporter": "python",
   "pygments_lexer": "ipython3",
   "version": "3.9.6"
  },
  "orig_nbformat": 4,
  "vscode": {
   "interpreter": {
    "hash": "86fb86a74c913095f2328121504a2cb38245fc0b392e5f183237bbf35130b558"
   }
  }
 },
 "nbformat": 4,
 "nbformat_minor": 2
}
