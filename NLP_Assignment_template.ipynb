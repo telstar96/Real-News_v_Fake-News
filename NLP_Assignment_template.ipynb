{
 "cells": [
  {
   "cell_type": "markdown",
   "metadata": {},
   "source": [
    "# NLP Assignment 1 (40% of grade): Text classification for Fake News Detection\n",
    "\n",
    "This coursework will involve you implementing functions for a text classifier, which you will train to detect **fake news** in a corpus of approx. 10,000 statements, which will be split into a 80%/20% training/test split. \n",
    "\n",
    "In this template you are given the basis for that implementation, though some of the functions are missing, which you have to fill in.\n",
    "\n",
    "Follow the instructions file **NLP_Assignment_1_Instructions.pdf** for details of each question - the outline of what needs to be achieved for each question is as below.\n",
    "\n",
    "You must submit all **ipython notebooks and extra resources you need to run the code if you've added them** in the code submission, and a **2 page report (pdf)** in the report submission on QMPlus where you report your methods and findings according to the instructions file for each question."
   ]
  },
  {
   "cell_type": "code",
   "execution_count": 1,
   "metadata": {},
   "outputs": [
    {
     "name": "stdout",
     "output_type": "stream",
     "text": [
      "Requirement already satisfied: nltk in /Users/samson/opt/anaconda3/lib/python3.9/site-packages (3.7)\n",
      "Requirement already satisfied: joblib in /Users/samson/opt/anaconda3/lib/python3.9/site-packages (from nltk) (1.1.0)\n",
      "Requirement already satisfied: tqdm in /Users/samson/opt/anaconda3/lib/python3.9/site-packages (from nltk) (4.64.0)\n",
      "Requirement already satisfied: regex>=2021.8.3 in /Users/samson/opt/anaconda3/lib/python3.9/site-packages (from nltk) (2022.3.15)\n",
      "Requirement already satisfied: click in /Users/samson/opt/anaconda3/lib/python3.9/site-packages (from nltk) (8.0.4)\n"
     ]
    }
   ],
   "source": [
    "!pip install nltk"
   ]
  },
  {
   "cell_type": "code",
   "execution_count": 2,
   "metadata": {},
   "outputs": [],
   "source": [
    "import csv                               # csv reader\n",
    "from sklearn.svm import LinearSVC\n",
    "from nltk.classify import SklearnClassifier\n",
    "from sklearn.pipeline import Pipeline\n",
    "from sklearn.metrics import precision_recall_fscore_support # to report on precision and recall\n",
    "import numpy as np\n",
    "import re"
   ]
  },
  {
   "cell_type": "code",
   "execution_count": 3,
   "metadata": {},
   "outputs": [],
   "source": [
    "def load_data(path):\n",
    "    \"\"\"Load data from a tab-separated file and append it to raw_data.\"\"\"\n",
    "    with open(path) as f:\n",
    "        reader = csv.reader(f, delimiter='\\t')\n",
    "        for line in reader:\n",
    "            if line[0] == \"Id\":  # skip header\n",
    "                continue\n",
    "            (label, text) = parse_data_line(line)\n",
    "            raw_data.append((text, label))\n",
    "\n",
    "def split_and_preprocess_data(percentage):\n",
    "    \"\"\"Split the data between train_data and test_data according to the percentage\n",
    "    and performs the preprocessing.\"\"\"\n",
    "    num_samples = len(raw_data)\n",
    "    num_training_samples = int((percentage * num_samples))\n",
    "    for (text, label) in raw_data[:num_training_samples]:\n",
    "        train_data.append((to_feature_vector(pre_process(text)),label))\n",
    "    for (text, label) in raw_data[num_training_samples:]:\n",
    "        test_data.append((to_feature_vector(pre_process(text)),label))"
   ]
  },
  {
   "cell_type": "markdown",
   "metadata": {},
   "source": [
    "# Question 1: Input and Basic preprocessing (10 marks)"
   ]
  },
  {
   "cell_type": "code",
   "execution_count": 4,
   "metadata": {},
   "outputs": [],
   "source": [
    "def convert_label(label):\n",
    "    \"\"\"Converts the multiple classes into two,\n",
    "    making it a binary distinction between fake news and real.\"\"\"\n",
    "    #return label\n",
    "    # Converting the multiclass labels to binary label\n",
    "    labels_map = {\n",
    "        'true': 'REAL',\n",
    "        'mostly-true': 'REAL',\n",
    "        'half-true': 'REAL',\n",
    "        'false': 'FAKE',\n",
    "        'barely-true': 'FAKE',\n",
    "        'pants-fire': 'FAKE'\n",
    "    }\n",
    "    return labels_map[label]\n",
    "\n",
    "\n",
    "def parse_data_line(data_line):\n",
    "    data_line_vals = data_line\n",
    "    label = convert_label(data_line_vals[1])\n",
    "    statement = data_line_vals[2]\n",
    "    # Should return a tuple of the label as just FAKE or REAL and the statement\n",
    "    # e.g. (label, statement)\n",
    "    return (label, statement)"
   ]
  },
  {
   "cell_type": "code",
   "execution_count": 5,
   "metadata": {},
   "outputs": [],
   "source": [
    "\n",
    "# Input: a string of one statement\n",
    "def pre_process(text):\n",
    "    text = re.sub(r\"(\\w)([.,;:!?'\\\"”\\)])\", r\"\\1 \\2\", text)\n",
    "    text = re.sub(r\"([.,;:!?'\\\"“\\(\\)])(\\w)\", r\"\\1 \\2\", text)\n",
    "    tokens = re.split(r\"\\s+\",text)\n",
    "    # normalisation - only by lower casing for now\n",
    "    tokens = [t.lower() for t in tokens]\n",
    "    return tokens"
   ]
  },
  {
   "cell_type": "markdown",
   "metadata": {},
   "source": [
    "# Question 2: Basic Feature Extraction (20 marks)"
   ]
  },
  {
   "cell_type": "code",
   "execution_count": 6,
   "metadata": {},
   "outputs": [],
   "source": [
    "from sklearn.feature_extraction.text import CountVectorizer"
   ]
  },
  {
   "cell_type": "code",
   "execution_count": 7,
   "metadata": {},
   "outputs": [],
   "source": [
    "global_feature_dict = {} # A global dictionary of features\n",
    "\n",
    "def to_feature_vector(tokens):\n",
    "    # Should return a dictionary containing features as keys, and weights as values\n",
    "    # Defining the count_vect as = to the CountVectorizer() function.\n",
    "    # This function will transform our tokens into a matrix, with each row corresponding to the statement and the columns to the number for features for each token.\n",
    "    # It will also give us the frequency of each token as it's weight.\n",
    "    # To create the dictionary, we can use the .vocabulary_ to method to assign the keys and it's value.\n",
    "    # We then update our global dictionary using vocab variable.\n",
    "    # The function will return vocab (i.e a dictionary that has been transformed with the CountVectorizer)\n",
    "    count_vect = CountVectorizer()\n",
    "    count_vect.fit_transform(tokens)\n",
    "    vocab = count_vect.vocabulary_\n",
    "    global_feature_dict.update(vocab)\n",
    "    return vocab"
   ]
  },
  {
   "cell_type": "code",
   "execution_count": 8,
   "metadata": {},
   "outputs": [],
   "source": [
    "# TRAINING AND VALIDATING OUR CLASSIFIER\n",
    "\n",
    "def train_classifier(data):\n",
    "    print(\"Training Classifier...\")\n",
    "    pipeline =  Pipeline([('svc', LinearSVC())])\n",
    "    return SklearnClassifier(pipeline).train(data)"
   ]
  },
  {
   "cell_type": "markdown",
   "metadata": {},
   "source": [
    "# Question 3: Cross-validation (20 marks)"
   ]
  },
  {
   "cell_type": "code",
   "execution_count": 9,
   "metadata": {},
   "outputs": [],
   "source": [
    "# #solution\n",
    "# from sklearn.metrics import classification_report\n",
    "# from sklearn.model_selection import train_test_split\n",
    "# from sklearn.model_selection import KFold\n",
    "\n",
    "\n",
    "# def cross_validate(dataset, folds):\n",
    "#     results = []\n",
    "#     fold_size = int(len(dataset)/folds) + 1 #length of dataset/10 + 1 to split the data evenly. so 10 + 1. We add one to allow us to have 10 folds, as python starts at 0.\n",
    "    \n",
    "#     for i in range(0,len(dataset),int(fold_size)):\n",
    "#         print(\"Fold start on items %d - %d\" % (i, i+fold_size))\n",
    "#         train = dataset[0:i] + dataset[i+fold_size:]\n",
    "#         val = dataset[i:i+fold_size]\n",
    "#         classifier = train_classifier(train)\n",
    "#         predicted_labels = predict_labels(val, classifier)\n",
    "        \n",
    "#         acc = accuracy_score(pred_values , y_test)\n",
    "        \n",
    "#     return None"
   ]
  },
  {
   "cell_type": "code",
   "execution_count": 10,
   "metadata": {},
   "outputs": [],
   "source": [
    "#solution\n",
    "from sklearn.metrics import classification_report\n",
    "\n",
    "\n",
    "def cross_validate(dataset, folds):\n",
    "    results = []\n",
    "    fold_size = int(len(dataset)/folds) + 1 #length of dataset/10 + 1 to split the data evenly. so 10 + 1. We add one to allow us to have 10 folds, as python starts at 0.\n",
    "    \n",
    "    for i in range(0,len(dataset),int(fold_size)): # range(start at 0, stop at the end of the dataset, for each )\n",
    "        # insert code here that trains and tests on the 10 folds of data in the dataset\n",
    "        \n",
    "        print(\"Fold start on items %d - %d\" % (i, i+fold_size))\n",
    "        # FILL IN THE METHOD HERE\n",
    "        train_sample = dataset[:i] + dataset[i+fold_size:]\n",
    "        test_sample = dataset[i:i+fold_size]\n",
    "        cv = train_classifier(train_sample)\n",
    "        test_sample_x = [i[0] for i in test_sample]\n",
    "        test_sample_y = [i[1] for i in test_sample]\n",
    "        predicted_labels = predict_labels(test_sample_x,cv)\n",
    "        cv_results = classification_report(test_sample_y,predicted_labels)\n",
    "        print(cv_results)\n",
    "        results.append(cv_results)\n",
    "    return results"
   ]
  },
  {
   "cell_type": "code",
   "execution_count": 11,
   "metadata": {},
   "outputs": [],
   "source": [
    "# PREDICTING LABELS GIVEN A CLASSIFIER\n",
    "\n",
    "def predict_labels(samples, classifier):\n",
    "    \"\"\"Assuming preprocessed samples, return their predicted labels from the classifier model.\"\"\"\n",
    "    return classifier.classify_many(samples)\n",
    "\n",
    "def predict_label_from_raw(sample, classifier):\n",
    "    \"\"\"Assuming raw text, return its predicted label from the classifier model.\"\"\"\n",
    "    return classifier.classify(to_feature_vector(preProcess(reviewSample)))"
   ]
  },
  {
   "cell_type": "code",
   "execution_count": 12,
   "metadata": {},
   "outputs": [
    {
     "name": "stdout",
     "output_type": "stream",
     "text": [
      "Now 0 rawData, 0 trainData, 0 testData\n",
      "Preparing the dataset...\n",
      "Now 10241 rawData, 0 trainData, 0 testData\n",
      "Preparing training and test data...\n",
      "After split, 10241 rawData, 8192 trainData, 2049 testData\n",
      "Training Samples: \n",
      "8192\n",
      "Features: \n",
      "12193\n"
     ]
    }
   ],
   "source": [
    "# MAIN\n",
    "\n",
    "# loading reviews\n",
    "# initialize global lists that will be appended to by the methods below\n",
    "raw_data = []          # the filtered data from the dataset file\n",
    "train_data = []        # the pre-processed training data as a percentage of the total dataset\n",
    "test_data = []         # the pre-processed test data as a percentage of the total dataset\n",
    "\n",
    "\n",
    "# references to the data files\n",
    "data_file_path = 'fake_news.tsv'\n",
    "\n",
    "# Do the actual stuff (i.e. call the functions we've made)\n",
    "# We parse the dataset and put it in a raw data list\n",
    "print(\"Now %d rawData, %d trainData, %d testData\" % (len(raw_data), len(train_data), len(test_data)),\n",
    "      \"Preparing the dataset...\",sep='\\n')\n",
    "\n",
    "load_data(data_file_path) \n",
    "\n",
    "# We split the raw dataset into a set of training data and a set of test data (80/20)\n",
    "# You do the cross validation on the 80% (training data)\n",
    "# We print the number of training samples and the number of features before the split\n",
    "print(\"Now %d rawData, %d trainData, %d testData\" % (len(raw_data), len(train_data), len(test_data)),\n",
    "      \"Preparing training and test data...\",sep='\\n')\n",
    "\n",
    "split_and_preprocess_data(0.8)\n",
    "\n",
    "# We print the number of training samples and the number of features after the split\n",
    "print(\"After split, %d rawData, %d trainData, %d testData\" % (len(raw_data), len(train_data), len(test_data)),\n",
    "      \"Training Samples: \", len(train_data), \"Features: \", len(global_feature_dict), sep='\\n')\n"
   ]
  },
  {
   "cell_type": "code",
   "execution_count": 13,
   "metadata": {},
   "outputs": [
    {
     "name": "stdout",
     "output_type": "stream",
     "text": [
      "Fold start on items 0 - 820\n",
      "Training Classifier...\n"
     ]
    },
    {
     "name": "stderr",
     "output_type": "stream",
     "text": [
      "/Users/samson/opt/anaconda3/lib/python3.9/site-packages/sklearn/svm/_base.py:1206: ConvergenceWarning: Liblinear failed to converge, increase the number of iterations.\n",
      "  warnings.warn(\n"
     ]
    },
    {
     "name": "stdout",
     "output_type": "stream",
     "text": [
      "              precision    recall  f1-score   support\n",
      "\n",
      "        FAKE       0.45      0.47      0.46       339\n",
      "        REAL       0.62      0.60      0.61       481\n",
      "\n",
      "    accuracy                           0.55       820\n",
      "   macro avg       0.54      0.54      0.54       820\n",
      "weighted avg       0.55      0.55      0.55       820\n",
      "\n",
      "Fold start on items 820 - 1640\n",
      "Training Classifier...\n"
     ]
    },
    {
     "name": "stderr",
     "output_type": "stream",
     "text": [
      "/Users/samson/opt/anaconda3/lib/python3.9/site-packages/sklearn/svm/_base.py:1206: ConvergenceWarning: Liblinear failed to converge, increase the number of iterations.\n",
      "  warnings.warn(\n"
     ]
    },
    {
     "name": "stdout",
     "output_type": "stream",
     "text": [
      "              precision    recall  f1-score   support\n",
      "\n",
      "        FAKE       0.51      0.53      0.52       375\n",
      "        REAL       0.59      0.56      0.57       445\n",
      "\n",
      "    accuracy                           0.55       820\n",
      "   macro avg       0.55      0.55      0.55       820\n",
      "weighted avg       0.55      0.55      0.55       820\n",
      "\n",
      "Fold start on items 1640 - 2460\n",
      "Training Classifier...\n"
     ]
    },
    {
     "name": "stderr",
     "output_type": "stream",
     "text": [
      "/Users/samson/opt/anaconda3/lib/python3.9/site-packages/sklearn/svm/_base.py:1206: ConvergenceWarning: Liblinear failed to converge, increase the number of iterations.\n",
      "  warnings.warn(\n"
     ]
    },
    {
     "name": "stdout",
     "output_type": "stream",
     "text": [
      "              precision    recall  f1-score   support\n",
      "\n",
      "        FAKE       0.53      0.49      0.51       392\n",
      "        REAL       0.57      0.60      0.58       428\n",
      "\n",
      "    accuracy                           0.55       820\n",
      "   macro avg       0.55      0.55      0.55       820\n",
      "weighted avg       0.55      0.55      0.55       820\n",
      "\n",
      "Fold start on items 2460 - 3280\n",
      "Training Classifier...\n"
     ]
    },
    {
     "name": "stderr",
     "output_type": "stream",
     "text": [
      "/Users/samson/opt/anaconda3/lib/python3.9/site-packages/sklearn/svm/_base.py:1206: ConvergenceWarning: Liblinear failed to converge, increase the number of iterations.\n",
      "  warnings.warn(\n"
     ]
    },
    {
     "name": "stdout",
     "output_type": "stream",
     "text": [
      "              precision    recall  f1-score   support\n",
      "\n",
      "        FAKE       0.48      0.50      0.49       357\n",
      "        REAL       0.60      0.58      0.59       463\n",
      "\n",
      "    accuracy                           0.54       820\n",
      "   macro avg       0.54      0.54      0.54       820\n",
      "weighted avg       0.55      0.54      0.54       820\n",
      "\n",
      "Fold start on items 3280 - 4100\n",
      "Training Classifier...\n"
     ]
    },
    {
     "name": "stderr",
     "output_type": "stream",
     "text": [
      "/Users/samson/opt/anaconda3/lib/python3.9/site-packages/sklearn/svm/_base.py:1206: ConvergenceWarning: Liblinear failed to converge, increase the number of iterations.\n",
      "  warnings.warn(\n"
     ]
    },
    {
     "name": "stdout",
     "output_type": "stream",
     "text": [
      "              precision    recall  f1-score   support\n",
      "\n",
      "        FAKE       0.48      0.50      0.49       348\n",
      "        REAL       0.62      0.60      0.61       472\n",
      "\n",
      "    accuracy                           0.56       820\n",
      "   macro avg       0.55      0.55      0.55       820\n",
      "weighted avg       0.56      0.56      0.56       820\n",
      "\n",
      "Fold start on items 4100 - 4920\n",
      "Training Classifier...\n"
     ]
    },
    {
     "name": "stderr",
     "output_type": "stream",
     "text": [
      "/Users/samson/opt/anaconda3/lib/python3.9/site-packages/sklearn/svm/_base.py:1206: ConvergenceWarning: Liblinear failed to converge, increase the number of iterations.\n",
      "  warnings.warn(\n"
     ]
    },
    {
     "name": "stdout",
     "output_type": "stream",
     "text": [
      "              precision    recall  f1-score   support\n",
      "\n",
      "        FAKE       0.48      0.51      0.49       349\n",
      "        REAL       0.62      0.58      0.60       471\n",
      "\n",
      "    accuracy                           0.55       820\n",
      "   macro avg       0.55      0.55      0.55       820\n",
      "weighted avg       0.56      0.55      0.56       820\n",
      "\n",
      "Fold start on items 4920 - 5740\n",
      "Training Classifier...\n"
     ]
    },
    {
     "name": "stderr",
     "output_type": "stream",
     "text": [
      "/Users/samson/opt/anaconda3/lib/python3.9/site-packages/sklearn/svm/_base.py:1206: ConvergenceWarning: Liblinear failed to converge, increase the number of iterations.\n",
      "  warnings.warn(\n"
     ]
    },
    {
     "name": "stdout",
     "output_type": "stream",
     "text": [
      "              precision    recall  f1-score   support\n",
      "\n",
      "        FAKE       0.45      0.48      0.46       349\n",
      "        REAL       0.59      0.57      0.58       471\n",
      "\n",
      "    accuracy                           0.53       820\n",
      "   macro avg       0.52      0.52      0.52       820\n",
      "weighted avg       0.53      0.53      0.53       820\n",
      "\n",
      "Fold start on items 5740 - 6560\n",
      "Training Classifier...\n"
     ]
    },
    {
     "name": "stderr",
     "output_type": "stream",
     "text": [
      "/Users/samson/opt/anaconda3/lib/python3.9/site-packages/sklearn/svm/_base.py:1206: ConvergenceWarning: Liblinear failed to converge, increase the number of iterations.\n",
      "  warnings.warn(\n"
     ]
    },
    {
     "name": "stdout",
     "output_type": "stream",
     "text": [
      "              precision    recall  f1-score   support\n",
      "\n",
      "        FAKE       0.50      0.51      0.51       357\n",
      "        REAL       0.62      0.60      0.61       463\n",
      "\n",
      "    accuracy                           0.56       820\n",
      "   macro avg       0.56      0.56      0.56       820\n",
      "weighted avg       0.57      0.56      0.57       820\n",
      "\n",
      "Fold start on items 6560 - 7380\n",
      "Training Classifier...\n"
     ]
    },
    {
     "name": "stderr",
     "output_type": "stream",
     "text": [
      "/Users/samson/opt/anaconda3/lib/python3.9/site-packages/sklearn/svm/_base.py:1206: ConvergenceWarning: Liblinear failed to converge, increase the number of iterations.\n",
      "  warnings.warn(\n"
     ]
    },
    {
     "name": "stdout",
     "output_type": "stream",
     "text": [
      "              precision    recall  f1-score   support\n",
      "\n",
      "        FAKE       0.47      0.49      0.48       363\n",
      "        REAL       0.58      0.56      0.57       457\n",
      "\n",
      "    accuracy                           0.53       820\n",
      "   macro avg       0.53      0.53      0.53       820\n",
      "weighted avg       0.53      0.53      0.53       820\n",
      "\n",
      "Fold start on items 7380 - 8200\n",
      "Training Classifier...\n",
      "              precision    recall  f1-score   support\n",
      "\n",
      "        FAKE       0.46      0.53      0.49       333\n",
      "        REAL       0.64      0.57      0.60       479\n",
      "\n",
      "    accuracy                           0.56       812\n",
      "   macro avg       0.55      0.55      0.55       812\n",
      "weighted avg       0.57      0.56      0.56       812\n",
      "\n"
     ]
    },
    {
     "name": "stderr",
     "output_type": "stream",
     "text": [
      "/Users/samson/opt/anaconda3/lib/python3.9/site-packages/sklearn/svm/_base.py:1206: ConvergenceWarning: Liblinear failed to converge, increase the number of iterations.\n",
      "  warnings.warn(\n"
     ]
    },
    {
     "data": {
      "text/plain": [
       "['              precision    recall  f1-score   support\\n\\n        FAKE       0.45      0.47      0.46       339\\n        REAL       0.62      0.60      0.61       481\\n\\n    accuracy                           0.55       820\\n   macro avg       0.54      0.54      0.54       820\\nweighted avg       0.55      0.55      0.55       820\\n',\n",
       " '              precision    recall  f1-score   support\\n\\n        FAKE       0.51      0.53      0.52       375\\n        REAL       0.59      0.56      0.57       445\\n\\n    accuracy                           0.55       820\\n   macro avg       0.55      0.55      0.55       820\\nweighted avg       0.55      0.55      0.55       820\\n',\n",
       " '              precision    recall  f1-score   support\\n\\n        FAKE       0.53      0.49      0.51       392\\n        REAL       0.57      0.60      0.58       428\\n\\n    accuracy                           0.55       820\\n   macro avg       0.55      0.55      0.55       820\\nweighted avg       0.55      0.55      0.55       820\\n',\n",
       " '              precision    recall  f1-score   support\\n\\n        FAKE       0.48      0.50      0.49       357\\n        REAL       0.60      0.58      0.59       463\\n\\n    accuracy                           0.54       820\\n   macro avg       0.54      0.54      0.54       820\\nweighted avg       0.55      0.54      0.54       820\\n',\n",
       " '              precision    recall  f1-score   support\\n\\n        FAKE       0.48      0.50      0.49       348\\n        REAL       0.62      0.60      0.61       472\\n\\n    accuracy                           0.56       820\\n   macro avg       0.55      0.55      0.55       820\\nweighted avg       0.56      0.56      0.56       820\\n',\n",
       " '              precision    recall  f1-score   support\\n\\n        FAKE       0.48      0.51      0.49       349\\n        REAL       0.62      0.58      0.60       471\\n\\n    accuracy                           0.55       820\\n   macro avg       0.55      0.55      0.55       820\\nweighted avg       0.56      0.55      0.56       820\\n',\n",
       " '              precision    recall  f1-score   support\\n\\n        FAKE       0.45      0.48      0.46       349\\n        REAL       0.59      0.57      0.58       471\\n\\n    accuracy                           0.53       820\\n   macro avg       0.52      0.52      0.52       820\\nweighted avg       0.53      0.53      0.53       820\\n',\n",
       " '              precision    recall  f1-score   support\\n\\n        FAKE       0.50      0.51      0.51       357\\n        REAL       0.62      0.60      0.61       463\\n\\n    accuracy                           0.56       820\\n   macro avg       0.56      0.56      0.56       820\\nweighted avg       0.57      0.56      0.57       820\\n',\n",
       " '              precision    recall  f1-score   support\\n\\n        FAKE       0.47      0.49      0.48       363\\n        REAL       0.58      0.56      0.57       457\\n\\n    accuracy                           0.53       820\\n   macro avg       0.53      0.53      0.53       820\\nweighted avg       0.53      0.53      0.53       820\\n',\n",
       " '              precision    recall  f1-score   support\\n\\n        FAKE       0.46      0.53      0.49       333\\n        REAL       0.64      0.57      0.60       479\\n\\n    accuracy                           0.56       812\\n   macro avg       0.55      0.55      0.55       812\\nweighted avg       0.57      0.56      0.56       812\\n']"
      ]
     },
     "execution_count": 13,
     "metadata": {},
     "output_type": "execute_result"
    }
   ],
   "source": [
    "cross_validate(train_data, 10)  # will work and output overall performance of p, r, f-score when cv implemented"
   ]
  },
  {
   "cell_type": "markdown",
   "metadata": {},
   "source": [
    "# 4. Error Analysis (10 marks)"
   ]
  },
  {
   "cell_type": "code",
   "execution_count": 14,
   "metadata": {},
   "outputs": [],
   "source": [
    "from sklearn import metrics\n",
    "import matplotlib.pyplot as plt\n",
    "# a function to make the confusion matrix readable and pretty\n",
    "def confusion_matrix_heatmap(y_test, preds, labels):\n",
    "    \"\"\"Function to plot a confusion matrix\"\"\"\n",
    "    # pass labels to the confusion matrix function to ensure right order\n",
    "    cm = metrics.confusion_matrix(y_true=y_test, y_pred=preds, labels=labels)\n",
    "    fig = plt.figure(figsize=(10,10))\n",
    "    ax = fig.add_subplot(111)\n",
    "    cax = ax.matshow(cm)\n",
    "    plt.title('Confusion matrix of the classifier')\n",
    "    fig.colorbar(cax)\n",
    "    ax.set_xticks(np.arange(len(labels)))\n",
    "    ax.set_yticks(np.arange(len(labels)))\n",
    "    ax.set_xticklabels( labels, rotation=45)\n",
    "    ax.set_yticklabels( labels)\n",
    "\n",
    "    for i in range(len(cm)):\n",
    "        for j in range(len(cm)):\n",
    "            text = ax.text(j, i, cm[i, j],\n",
    "                           ha=\"center\", va=\"center\", color=\"w\")\n",
    "\n",
    "    plt.xlabel('Predicted')\n",
    "    plt.ylabel('True')\n",
    "    \n",
    "    # fix for mpl bug that cuts off top/bottom of seaborn viz:\n",
    "    b, t = plt.ylim() # discover the values for bottom and top\n",
    "    b += 0.5 # Add 0.5 to the bottom\n",
    "    t -= 0.5 # Subtract 0.5 from the top\n",
    "    plt.ylim(b, t) # update the ylim(bottom, top) values\n",
    "    plt.show() # ta-da!\n",
    "    plt.show()"
   ]
  },
  {
   "cell_type": "code",
   "execution_count": 15,
   "metadata": {},
   "outputs": [
    {
     "name": "stdout",
     "output_type": "stream",
     "text": [
      "Training Classifier...\n",
      "              precision    recall  f1-score   support\n",
      "\n",
      "        FAKE       0.49      0.49      0.49       926\n",
      "        REAL       0.58      0.57      0.57      1123\n",
      "\n",
      "    accuracy                           0.53      2049\n",
      "   macro avg       0.53      0.53      0.53      2049\n",
      "weighted avg       0.54      0.53      0.54      2049\n",
      "\n"
     ]
    },
    {
     "name": "stderr",
     "output_type": "stream",
     "text": [
      "/Users/samson/opt/anaconda3/lib/python3.9/site-packages/sklearn/svm/_base.py:1206: ConvergenceWarning: Liblinear failed to converge, increase the number of iterations.\n",
      "  warnings.warn(\n"
     ]
    }
   ],
   "source": [
    "cv = train_classifier(train_data)\n",
    "test_x = [i[0] for i in test_data]\n",
    "test_y = [i[1] for i in test_data]\n",
    "pred = predict_labels(test_x,cv)\n",
    "cv_results = classification_report(test_y,pred)\n",
    "\n",
    "print(cv_results)"
   ]
  },
  {
   "cell_type": "code",
   "execution_count": 16,
   "metadata": {},
   "outputs": [],
   "source": [
    "# # Looking at the 7th fold as it performed the worst for fake news.\n",
    "# fold_size = int((len(test_data)/10)+1)\n",
    "# test_sample = test_data[0:0+fold_size]\n",
    "# err_test_x = [i[0] for i in test_sample]\n",
    "# err_test_y = [i[1] for i in test_sample]\n",
    "# err_pred = predict_labels(err_test_x,cv)"
   ]
  },
  {
   "cell_type": "code",
   "execution_count": 17,
   "metadata": {},
   "outputs": [],
   "source": [
    "# Looking at the 7th fold as it performed the worst for fake news.\n",
    "fold_size = int((len(test_data)/10)+1)\n",
    "test_sample = test_data[(fold_size*6):(fold_size*7)]\n",
    "err_test_x = [i[0] for i in test_sample]\n",
    "err_test_y = [i[1] for i in test_sample]\n",
    "err_pred = predict_labels(err_test_x,cv)"
   ]
  },
  {
   "cell_type": "code",
   "execution_count": 18,
   "metadata": {},
   "outputs": [],
   "source": [
    "for i in range(len(err_pred)):\n",
    "    # If the predicted label is Real\n",
    "    if pred[i] == 'REAL':\n",
    "        if err_test_y[i] == 'FAKE': # and the real label is Fake\n",
    "            with open('FP.txt', 'a') as f:\n",
    "                print('\\nfalse positive => predicted: REAL => ground truth: FAKE\\n' ,err_test_x[i], file=f)\n",
    "    # Else meaing that the predicted label is Fake            \n",
    "    else:\n",
    "        if err_test_y[i] == 'REAL': # and the real label is Real\n",
    "            with open('FN.txt', 'a') as f:\n",
    "                print('\\nfalse negative => predicted: FAKE => ground truth: REAL\\n',err_test_x[i], file=f)"
   ]
  },
  {
   "cell_type": "code",
   "execution_count": 19,
   "metadata": {},
   "outputs": [
    {
     "data": {
      "image/png": "[encoded data removed]",
      "text/plain": [
       "<Figure size 720x720 with 2 Axes>"
      ]
     },
     "metadata": {
      "needs_background": "light"
     },
     "output_type": "display_data"
    }
   ],
   "source": [
    "confusion_matrix_heatmap(test_y, pred, labels=['REAL','FAKE'])"
   ]
  },
  {
   "cell_type": "markdown",
   "metadata": {},
   "source": [
    "# Questions 5 (20%) and 6 (20%) (recommend starting a new notebook)"
   ]
  },
  {
   "cell_type": "code",
   "execution_count": 20,
   "metadata": {},
   "outputs": [
    {
     "name": "stdout",
     "output_type": "stream",
     "text": [
      "({'the': 9, 'bush': 0, 'tax': 8, 'cuts': 2, 'helped': 4, 'to': 10, 'create': 1, 'substantial': 7, 'part': 6, 'of': 5, 'deficit': 3}, 'REAL')\n",
      "Training Classifier...\n",
      "Done training!\n",
      "Precision: 0.536629\n",
      "Recall: 0.536847\n",
      "F Score:0.536735\n"
     ]
    },
    {
     "name": "stderr",
     "output_type": "stream",
     "text": [
      "/Users/samson/opt/anaconda3/lib/python3.9/site-packages/sklearn/svm/_base.py:1206: ConvergenceWarning: Liblinear failed to converge, increase the number of iterations.\n",
      "  warnings.warn(\n"
     ]
    }
   ],
   "source": [
    "# Finally, check the accuracy of your classifier by training on all the traning data\n",
    "# and testing on the test set\n",
    "# Will only work once all functions are complete\n",
    "functions_complete = True  # set to True once you're happy with your methods for cross val\n",
    "if functions_complete:\n",
    "    print(test_data[0])   # have a look at the first test data instance\n",
    "    classifier = train_classifier(train_data)  # train the classifier\n",
    "    test_true = [t[1] for t in test_data]   # get the ground-truth labels from the data\n",
    "    test_pred = predict_labels([x[0] for x in test_data], classifier)  # classify the test data to get predicted labels\n",
    "    final_scores = precision_recall_fscore_support(test_true, test_pred, average='weighted') # evaluate\n",
    "    print(\"Done training!\")\n",
    "    print(\"Precision: %f\\nRecall: %f\\nF Score:%f\" % final_scores[:3])"
   ]
  },
  {
   "cell_type": "code",
   "execution_count": null,
   "metadata": {},
   "outputs": [],
   "source": []
  },
  {
   "cell_type": "code",
   "execution_count": null,
   "metadata": {},
   "outputs": [],
   "source": []
  }
 ],
 "metadata": {
  "kernelspec": {
   "display_name": "Python 3.9.12 ('base')",
   "language": "python",
   "name": "python3"
  },
  "language_info": {
   "codemirror_mode": {
    "name": "ipython",
    "version": 3
   },
   "file_extension": ".py",
   "mimetype": "text/x-python",
   "name": "python",
   "nbconvert_exporter": "python",
   "pygments_lexer": "ipython3",
   "version": "3.9.12"
  },
  "vscode": {
   "interpreter": {
    "hash": "86fb86a74c913095f2328121504a2cb38245fc0b392e5f183237bbf35130b558"
   }
  }
 },
 "nbformat": 4,
 "nbformat_minor": 2
}
